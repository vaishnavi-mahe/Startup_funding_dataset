{
 "cells": [
  {
   "cell_type": "markdown",
   "id": "f9403fb3",
   "metadata": {},
   "source": [
    "## IMPORT PYTHON LIBRARIES(NUMPY,PANDAS,MATPLOTLIB)"
   ]
  },
  {
   "cell_type": "code",
   "execution_count": 1,
   "id": "47022d4d",
   "metadata": {},
   "outputs": [],
   "source": [
    "import numpy as np\n",
    "import pandas as pd\n",
    "import matplotlib.pyplot as plt"
   ]
  },
  {
   "cell_type": "markdown",
   "id": "9a51aa03",
   "metadata": {},
   "source": [
    "## READING CSV FILE USING PANDAS"
   ]
  },
  {
   "cell_type": "code",
   "execution_count": 2,
   "id": "5e428df4",
   "metadata": {
    "scrolled": true
   },
   "outputs": [
    {
     "data": {
      "text/html": [
       "<div>\n",
       "<style scoped>\n",
       "    .dataframe tbody tr th:only-of-type {\n",
       "        vertical-align: middle;\n",
       "    }\n",
       "\n",
       "    .dataframe tbody tr th {\n",
       "        vertical-align: top;\n",
       "    }\n",
       "\n",
       "    .dataframe thead th {\n",
       "        text-align: right;\n",
       "    }\n",
       "</style>\n",
       "<table border=\"1\" class=\"dataframe\">\n",
       "  <thead>\n",
       "    <tr style=\"text-align: right;\">\n",
       "      <th></th>\n",
       "      <th>SNo</th>\n",
       "      <th>Date</th>\n",
       "      <th>StartupName</th>\n",
       "      <th>IndustryVertical</th>\n",
       "      <th>SubVertical</th>\n",
       "      <th>CityLocation</th>\n",
       "      <th>InvestorsName</th>\n",
       "      <th>InvestmentType</th>\n",
       "      <th>AmountInUSD</th>\n",
       "      <th>Remarks</th>\n",
       "    </tr>\n",
       "  </thead>\n",
       "  <tbody>\n",
       "    <tr>\n",
       "      <th>0</th>\n",
       "      <td>0</td>\n",
       "      <td>01-08-2017</td>\n",
       "      <td>TouchKin</td>\n",
       "      <td>Technology</td>\n",
       "      <td>Predictive Care Platform</td>\n",
       "      <td>Bangalore</td>\n",
       "      <td>Kae Capital</td>\n",
       "      <td>Private Equity</td>\n",
       "      <td>13,00,000</td>\n",
       "      <td>NaN</td>\n",
       "    </tr>\n",
       "    <tr>\n",
       "      <th>1</th>\n",
       "      <td>1</td>\n",
       "      <td>02-08-2017</td>\n",
       "      <td>Ethinos</td>\n",
       "      <td>Technology</td>\n",
       "      <td>Digital Marketing Agency</td>\n",
       "      <td>Mumbai</td>\n",
       "      <td>Triton Investment Advisors</td>\n",
       "      <td>Private Equity</td>\n",
       "      <td>NaN</td>\n",
       "      <td>NaN</td>\n",
       "    </tr>\n",
       "    <tr>\n",
       "      <th>2</th>\n",
       "      <td>2</td>\n",
       "      <td>02-08-2017</td>\n",
       "      <td>Leverage Edu</td>\n",
       "      <td>Consumer Internet</td>\n",
       "      <td>Online platform for Higher Education Services</td>\n",
       "      <td>New Delhi</td>\n",
       "      <td>Kashyap Deorah, Anand Sankeshwar, Deepak Jain,...</td>\n",
       "      <td>Seed Funding</td>\n",
       "      <td>NaN</td>\n",
       "      <td>NaN</td>\n",
       "    </tr>\n",
       "    <tr>\n",
       "      <th>3</th>\n",
       "      <td>3</td>\n",
       "      <td>02-08-2017</td>\n",
       "      <td>Zepo</td>\n",
       "      <td>Consumer Internet</td>\n",
       "      <td>DIY Ecommerce platform</td>\n",
       "      <td>Mumbai</td>\n",
       "      <td>Kunal Shah, LetsVenture, Anupam Mittal, Hetal ...</td>\n",
       "      <td>Seed Funding</td>\n",
       "      <td>5,00,000</td>\n",
       "      <td>NaN</td>\n",
       "    </tr>\n",
       "    <tr>\n",
       "      <th>4</th>\n",
       "      <td>4</td>\n",
       "      <td>02-08-2017</td>\n",
       "      <td>Click2Clinic</td>\n",
       "      <td>Consumer Internet</td>\n",
       "      <td>healthcare service aggregator</td>\n",
       "      <td>Hyderabad</td>\n",
       "      <td>Narottam Thudi, Shireesh Palle</td>\n",
       "      <td>Seed Funding</td>\n",
       "      <td>8,50,000</td>\n",
       "      <td>NaN</td>\n",
       "    </tr>\n",
       "    <tr>\n",
       "      <th>...</th>\n",
       "      <td>...</td>\n",
       "      <td>...</td>\n",
       "      <td>...</td>\n",
       "      <td>...</td>\n",
       "      <td>...</td>\n",
       "      <td>...</td>\n",
       "      <td>...</td>\n",
       "      <td>...</td>\n",
       "      <td>...</td>\n",
       "      <td>...</td>\n",
       "    </tr>\n",
       "    <tr>\n",
       "      <th>2367</th>\n",
       "      <td>2367</td>\n",
       "      <td>29-01-2015</td>\n",
       "      <td>Printvenue</td>\n",
       "      <td>NaN</td>\n",
       "      <td>NaN</td>\n",
       "      <td>NaN</td>\n",
       "      <td>Asia Pacific Internet Group</td>\n",
       "      <td>Private Equity</td>\n",
       "      <td>45,00,000</td>\n",
       "      <td>NaN</td>\n",
       "    </tr>\n",
       "    <tr>\n",
       "      <th>2368</th>\n",
       "      <td>2368</td>\n",
       "      <td>29-01-2015</td>\n",
       "      <td>Graphene</td>\n",
       "      <td>NaN</td>\n",
       "      <td>NaN</td>\n",
       "      <td>NaN</td>\n",
       "      <td>KARSEMVEN Fund</td>\n",
       "      <td>Private Equity</td>\n",
       "      <td>8,25,000</td>\n",
       "      <td>Govt backed VC Fund</td>\n",
       "    </tr>\n",
       "    <tr>\n",
       "      <th>2369</th>\n",
       "      <td>2369</td>\n",
       "      <td>30-01-2015</td>\n",
       "      <td>Mad Street Den</td>\n",
       "      <td>NaN</td>\n",
       "      <td>NaN</td>\n",
       "      <td>NaN</td>\n",
       "      <td>Exfinity Fund, GrowX Ventures.</td>\n",
       "      <td>Private Equity</td>\n",
       "      <td>15,00,000</td>\n",
       "      <td>NaN</td>\n",
       "    </tr>\n",
       "    <tr>\n",
       "      <th>2370</th>\n",
       "      <td>2370</td>\n",
       "      <td>30-01-2015</td>\n",
       "      <td>Simplotel</td>\n",
       "      <td>NaN</td>\n",
       "      <td>NaN</td>\n",
       "      <td>NaN</td>\n",
       "      <td>MakeMyTrip</td>\n",
       "      <td>Private Equity</td>\n",
       "      <td>NaN</td>\n",
       "      <td>Strategic Funding, Minority stake</td>\n",
       "    </tr>\n",
       "    <tr>\n",
       "      <th>2371</th>\n",
       "      <td>2371</td>\n",
       "      <td>31-01-2015</td>\n",
       "      <td>couponmachine.in</td>\n",
       "      <td>NaN</td>\n",
       "      <td>NaN</td>\n",
       "      <td>NaN</td>\n",
       "      <td>UK based Group of Angel Investors</td>\n",
       "      <td>Seed Funding</td>\n",
       "      <td>1,40,000</td>\n",
       "      <td>NaN</td>\n",
       "    </tr>\n",
       "  </tbody>\n",
       "</table>\n",
       "<p>2372 rows × 10 columns</p>\n",
       "</div>"
      ],
      "text/plain": [
       "       SNo        Date       StartupName   IndustryVertical  \\\n",
       "0        0  01-08-2017          TouchKin         Technology   \n",
       "1        1  02-08-2017           Ethinos         Technology   \n",
       "2        2  02-08-2017      Leverage Edu  Consumer Internet   \n",
       "3        3  02-08-2017              Zepo  Consumer Internet   \n",
       "4        4  02-08-2017      Click2Clinic  Consumer Internet   \n",
       "...    ...         ...               ...                ...   \n",
       "2367  2367  29-01-2015        Printvenue                NaN   \n",
       "2368  2368  29-01-2015          Graphene                NaN   \n",
       "2369  2369  30-01-2015    Mad Street Den                NaN   \n",
       "2370  2370  30-01-2015         Simplotel                NaN   \n",
       "2371  2371  31-01-2015  couponmachine.in                NaN   \n",
       "\n",
       "                                        SubVertical CityLocation  \\\n",
       "0                          Predictive Care Platform    Bangalore   \n",
       "1                          Digital Marketing Agency       Mumbai   \n",
       "2     Online platform for Higher Education Services    New Delhi   \n",
       "3                            DIY Ecommerce platform       Mumbai   \n",
       "4                     healthcare service aggregator    Hyderabad   \n",
       "...                                             ...          ...   \n",
       "2367                                            NaN          NaN   \n",
       "2368                                            NaN          NaN   \n",
       "2369                                            NaN          NaN   \n",
       "2370                                            NaN          NaN   \n",
       "2371                                            NaN          NaN   \n",
       "\n",
       "                                          InvestorsName  InvestmentType  \\\n",
       "0                                           Kae Capital  Private Equity   \n",
       "1                            Triton Investment Advisors  Private Equity   \n",
       "2     Kashyap Deorah, Anand Sankeshwar, Deepak Jain,...    Seed Funding   \n",
       "3     Kunal Shah, LetsVenture, Anupam Mittal, Hetal ...    Seed Funding   \n",
       "4                        Narottam Thudi, Shireesh Palle    Seed Funding   \n",
       "...                                                 ...             ...   \n",
       "2367                        Asia Pacific Internet Group  Private Equity   \n",
       "2368                                     KARSEMVEN Fund  Private Equity   \n",
       "2369                     Exfinity Fund, GrowX Ventures.  Private Equity   \n",
       "2370                                         MakeMyTrip  Private Equity   \n",
       "2371                  UK based Group of Angel Investors    Seed Funding   \n",
       "\n",
       "     AmountInUSD                            Remarks  \n",
       "0      13,00,000                                NaN  \n",
       "1            NaN                                NaN  \n",
       "2            NaN                                NaN  \n",
       "3       5,00,000                                NaN  \n",
       "4       8,50,000                                NaN  \n",
       "...          ...                                ...  \n",
       "2367   45,00,000                                NaN  \n",
       "2368    8,25,000                Govt backed VC Fund  \n",
       "2369   15,00,000                                NaN  \n",
       "2370         NaN  Strategic Funding, Minority stake  \n",
       "2371    1,40,000                                NaN  \n",
       "\n",
       "[2372 rows x 10 columns]"
      ]
     },
     "execution_count": 2,
     "metadata": {},
     "output_type": "execute_result"
    }
   ],
   "source": [
    "df=pd.read_csv('startup_funding.csv')\n",
    "df1=df.copy()\n",
    "df"
   ]
  },
  {
   "cell_type": "markdown",
   "id": "fdcd0bf5",
   "metadata": {},
   "source": [
    "# FINDING TOTAL NUMBER OF FUNDINGS DONE EACH YEAR"
   ]
  },
  {
   "cell_type": "markdown",
   "id": "4f6b6393",
   "metadata": {},
   "source": [
    "## STEP 1: FIND ALL THE DATES IN WHICH FORMAT ISN'T CORRECT"
   ]
  },
  {
   "cell_type": "code",
   "execution_count": 3,
   "id": "eb9bc3e0",
   "metadata": {},
   "outputs": [
    {
     "data": {
      "text/plain": [
       "array(['TouchKin', 'Ethinos', 'Leverage Edu', ..., 'Graphene',\n",
       "       'Simplotel', 'couponmachine.in'], dtype=object)"
      ]
     },
     "execution_count": 3,
     "metadata": {},
     "output_type": "execute_result"
    }
   ],
   "source": [
    "df[\"StartupName\"].unique()"
   ]
  },
  {
   "cell_type": "code",
   "execution_count": 4,
   "id": "68646dff",
   "metadata": {},
   "outputs": [
    {
     "data": {
      "text/plain": [
       "Seed Funding      1271\n",
       "Private Equity    1066\n",
       "SeedFunding         30\n",
       "PrivateEquity        1\n",
       "Crowd Funding        1\n",
       "Debt Funding         1\n",
       "Crowd funding        1\n",
       "Name: InvestmentType, dtype: int64"
      ]
     },
     "execution_count": 4,
     "metadata": {},
     "output_type": "execute_result"
    }
   ],
   "source": [
    "df[\"InvestmentType\"].unique()\n",
    "df[\"InvestmentType\"].value_counts()"
   ]
  },
  {
   "cell_type": "code",
   "execution_count": 5,
   "id": "f6a4aab2",
   "metadata": {},
   "outputs": [
    {
     "data": {
      "text/html": [
       "<div>\n",
       "<style scoped>\n",
       "    .dataframe tbody tr th:only-of-type {\n",
       "        vertical-align: middle;\n",
       "    }\n",
       "\n",
       "    .dataframe tbody tr th {\n",
       "        vertical-align: top;\n",
       "    }\n",
       "\n",
       "    .dataframe thead th {\n",
       "        text-align: right;\n",
       "    }\n",
       "</style>\n",
       "<table border=\"1\" class=\"dataframe\">\n",
       "  <thead>\n",
       "    <tr style=\"text-align: right;\">\n",
       "      <th></th>\n",
       "      <th>SNo</th>\n",
       "      <th>Date</th>\n",
       "      <th>StartupName</th>\n",
       "      <th>IndustryVertical</th>\n",
       "      <th>SubVertical</th>\n",
       "      <th>CityLocation</th>\n",
       "      <th>InvestorsName</th>\n",
       "      <th>InvestmentType</th>\n",
       "      <th>AmountInUSD</th>\n",
       "      <th>Remarks</th>\n",
       "    </tr>\n",
       "  </thead>\n",
       "  <tbody>\n",
       "    <tr>\n",
       "      <th>2103</th>\n",
       "      <td>2103</td>\n",
       "      <td>12/05.2015</td>\n",
       "      <td>Mobiefit</td>\n",
       "      <td>Mobile Fitness App</td>\n",
       "      <td>NaN</td>\n",
       "      <td>Goa</td>\n",
       "      <td>Prototyze</td>\n",
       "      <td>Seed Funding</td>\n",
       "      <td>NaN</td>\n",
       "      <td>NaN</td>\n",
       "    </tr>\n",
       "    <tr>\n",
       "      <th>2104</th>\n",
       "      <td>2104</td>\n",
       "      <td>12/05.2015</td>\n",
       "      <td>Plancess</td>\n",
       "      <td>Online Education Platform</td>\n",
       "      <td>NaN</td>\n",
       "      <td>Mumbai</td>\n",
       "      <td>Rajendra Gogri,� Chandrakant Gogri</td>\n",
       "      <td>Seed Funding</td>\n",
       "      <td>20,00,000</td>\n",
       "      <td>NaN</td>\n",
       "    </tr>\n",
       "    <tr>\n",
       "      <th>2159</th>\n",
       "      <td>2159</td>\n",
       "      <td>13/04.2015</td>\n",
       "      <td>The Porter</td>\n",
       "      <td>Logistics Tech</td>\n",
       "      <td>NaN</td>\n",
       "      <td>Mumbai</td>\n",
       "      <td>Kae Capital</td>\n",
       "      <td>Seed Funding</td>\n",
       "      <td>5,00,000</td>\n",
       "      <td>NaN</td>\n",
       "    </tr>\n",
       "    <tr>\n",
       "      <th>2339</th>\n",
       "      <td>2339</td>\n",
       "      <td>15/01.2015</td>\n",
       "      <td>Wishberry</td>\n",
       "      <td>NaN</td>\n",
       "      <td>NaN</td>\n",
       "      <td>NaN</td>\n",
       "      <td>Rajan Anandan, Shankar Mahadevan, Deep Kalra &amp;...</td>\n",
       "      <td>Seed Funding</td>\n",
       "      <td>6,50,000</td>\n",
       "      <td>NaN</td>\n",
       "    </tr>\n",
       "    <tr>\n",
       "      <th>2357</th>\n",
       "      <td>2357</td>\n",
       "      <td>22/01//2015</td>\n",
       "      <td>Corporate360</td>\n",
       "      <td>NaN</td>\n",
       "      <td>NaN</td>\n",
       "      <td>NaN</td>\n",
       "      <td>Group of Angel Investors</td>\n",
       "      <td>Seed Funding</td>\n",
       "      <td>2,00,000</td>\n",
       "      <td>NaN</td>\n",
       "    </tr>\n",
       "  </tbody>\n",
       "</table>\n",
       "</div>"
      ],
      "text/plain": [
       "       SNo         Date   StartupName           IndustryVertical SubVertical  \\\n",
       "2103  2103   12/05.2015      Mobiefit         Mobile Fitness App         NaN   \n",
       "2104  2104   12/05.2015      Plancess  Online Education Platform         NaN   \n",
       "2159  2159   13/04.2015    The Porter             Logistics Tech         NaN   \n",
       "2339  2339   15/01.2015     Wishberry                        NaN         NaN   \n",
       "2357  2357  22/01//2015  Corporate360                        NaN         NaN   \n",
       "\n",
       "     CityLocation                                      InvestorsName  \\\n",
       "2103          Goa                                          Prototyze   \n",
       "2104       Mumbai                 Rajendra Gogri,� Chandrakant Gogri   \n",
       "2159       Mumbai                                        Kae Capital   \n",
       "2339          NaN  Rajan Anandan, Shankar Mahadevan, Deep Kalra &...   \n",
       "2357          NaN                           Group of Angel Investors   \n",
       "\n",
       "     InvestmentType AmountInUSD Remarks  \n",
       "2103   Seed Funding         NaN     NaN  \n",
       "2104   Seed Funding   20,00,000     NaN  \n",
       "2159   Seed Funding    5,00,000     NaN  \n",
       "2339   Seed Funding    6,50,000     NaN  \n",
       "2357   Seed Funding    2,00,000     NaN  "
      ]
     },
     "execution_count": 5,
     "metadata": {},
     "output_type": "execute_result"
    }
   ],
   "source": [
    "def count_date_proper(x):\n",
    "    return(len(x.split('-')))\n",
    "df[df['Date'].apply(count_date_proper) != 3]"
   ]
  },
  {
   "cell_type": "markdown",
   "id": "612426e7",
   "metadata": {},
   "source": [
    "## STEP 2: BRING ALL THE DATES TO PROPER FORMAT"
   ]
  },
  {
   "cell_type": "code",
   "execution_count": 6,
   "id": "0b474ee5",
   "metadata": {},
   "outputs": [],
   "source": [
    "df['Date'].replace('12/05.2015','12-05-2015',inplace=True)\n",
    "df['Date'].replace('13/04.2015','13-04-2015',inplace=True)\n",
    "df['Date'].replace('15/01.2015','15-01-2015',inplace=True)\n",
    "df['Date'].replace('22/01//2015','22-01-2015',inplace=True)"
   ]
  },
  {
   "cell_type": "markdown",
   "id": "206043ef",
   "metadata": {},
   "source": [
    "## STEP 3: EXTRACT YEAR FROM THE DATE COLUMN"
   ]
  },
  {
   "cell_type": "code",
   "execution_count": 7,
   "id": "f4dffa57",
   "metadata": {},
   "outputs": [],
   "source": [
    "df['Year']=pd.to_datetime(df['Date'],format=\"%d-%m-%Y\").dt.year"
   ]
  },
  {
   "cell_type": "code",
   "execution_count": 8,
   "id": "c9315f4a",
   "metadata": {},
   "outputs": [
    {
     "data": {
      "text/html": [
       "<div>\n",
       "<style scoped>\n",
       "    .dataframe tbody tr th:only-of-type {\n",
       "        vertical-align: middle;\n",
       "    }\n",
       "\n",
       "    .dataframe tbody tr th {\n",
       "        vertical-align: top;\n",
       "    }\n",
       "\n",
       "    .dataframe thead th {\n",
       "        text-align: right;\n",
       "    }\n",
       "</style>\n",
       "<table border=\"1\" class=\"dataframe\">\n",
       "  <thead>\n",
       "    <tr style=\"text-align: right;\">\n",
       "      <th></th>\n",
       "      <th>SNo</th>\n",
       "      <th>Date</th>\n",
       "      <th>StartupName</th>\n",
       "      <th>IndustryVertical</th>\n",
       "      <th>SubVertical</th>\n",
       "      <th>CityLocation</th>\n",
       "      <th>InvestorsName</th>\n",
       "      <th>InvestmentType</th>\n",
       "      <th>AmountInUSD</th>\n",
       "      <th>Remarks</th>\n",
       "      <th>Year</th>\n",
       "    </tr>\n",
       "  </thead>\n",
       "  <tbody>\n",
       "    <tr>\n",
       "      <th>0</th>\n",
       "      <td>0</td>\n",
       "      <td>01-08-2017</td>\n",
       "      <td>TouchKin</td>\n",
       "      <td>Technology</td>\n",
       "      <td>Predictive Care Platform</td>\n",
       "      <td>Bangalore</td>\n",
       "      <td>Kae Capital</td>\n",
       "      <td>Private Equity</td>\n",
       "      <td>13,00,000</td>\n",
       "      <td>NaN</td>\n",
       "      <td>2017</td>\n",
       "    </tr>\n",
       "    <tr>\n",
       "      <th>1</th>\n",
       "      <td>1</td>\n",
       "      <td>02-08-2017</td>\n",
       "      <td>Ethinos</td>\n",
       "      <td>Technology</td>\n",
       "      <td>Digital Marketing Agency</td>\n",
       "      <td>Mumbai</td>\n",
       "      <td>Triton Investment Advisors</td>\n",
       "      <td>Private Equity</td>\n",
       "      <td>NaN</td>\n",
       "      <td>NaN</td>\n",
       "      <td>2017</td>\n",
       "    </tr>\n",
       "    <tr>\n",
       "      <th>2</th>\n",
       "      <td>2</td>\n",
       "      <td>02-08-2017</td>\n",
       "      <td>Leverage Edu</td>\n",
       "      <td>Consumer Internet</td>\n",
       "      <td>Online platform for Higher Education Services</td>\n",
       "      <td>New Delhi</td>\n",
       "      <td>Kashyap Deorah, Anand Sankeshwar, Deepak Jain,...</td>\n",
       "      <td>Seed Funding</td>\n",
       "      <td>NaN</td>\n",
       "      <td>NaN</td>\n",
       "      <td>2017</td>\n",
       "    </tr>\n",
       "    <tr>\n",
       "      <th>3</th>\n",
       "      <td>3</td>\n",
       "      <td>02-08-2017</td>\n",
       "      <td>Zepo</td>\n",
       "      <td>Consumer Internet</td>\n",
       "      <td>DIY Ecommerce platform</td>\n",
       "      <td>Mumbai</td>\n",
       "      <td>Kunal Shah, LetsVenture, Anupam Mittal, Hetal ...</td>\n",
       "      <td>Seed Funding</td>\n",
       "      <td>5,00,000</td>\n",
       "      <td>NaN</td>\n",
       "      <td>2017</td>\n",
       "    </tr>\n",
       "    <tr>\n",
       "      <th>4</th>\n",
       "      <td>4</td>\n",
       "      <td>02-08-2017</td>\n",
       "      <td>Click2Clinic</td>\n",
       "      <td>Consumer Internet</td>\n",
       "      <td>healthcare service aggregator</td>\n",
       "      <td>Hyderabad</td>\n",
       "      <td>Narottam Thudi, Shireesh Palle</td>\n",
       "      <td>Seed Funding</td>\n",
       "      <td>8,50,000</td>\n",
       "      <td>NaN</td>\n",
       "      <td>2017</td>\n",
       "    </tr>\n",
       "    <tr>\n",
       "      <th>...</th>\n",
       "      <td>...</td>\n",
       "      <td>...</td>\n",
       "      <td>...</td>\n",
       "      <td>...</td>\n",
       "      <td>...</td>\n",
       "      <td>...</td>\n",
       "      <td>...</td>\n",
       "      <td>...</td>\n",
       "      <td>...</td>\n",
       "      <td>...</td>\n",
       "      <td>...</td>\n",
       "    </tr>\n",
       "    <tr>\n",
       "      <th>2367</th>\n",
       "      <td>2367</td>\n",
       "      <td>29-01-2015</td>\n",
       "      <td>Printvenue</td>\n",
       "      <td>NaN</td>\n",
       "      <td>NaN</td>\n",
       "      <td>NaN</td>\n",
       "      <td>Asia Pacific Internet Group</td>\n",
       "      <td>Private Equity</td>\n",
       "      <td>45,00,000</td>\n",
       "      <td>NaN</td>\n",
       "      <td>2015</td>\n",
       "    </tr>\n",
       "    <tr>\n",
       "      <th>2368</th>\n",
       "      <td>2368</td>\n",
       "      <td>29-01-2015</td>\n",
       "      <td>Graphene</td>\n",
       "      <td>NaN</td>\n",
       "      <td>NaN</td>\n",
       "      <td>NaN</td>\n",
       "      <td>KARSEMVEN Fund</td>\n",
       "      <td>Private Equity</td>\n",
       "      <td>8,25,000</td>\n",
       "      <td>Govt backed VC Fund</td>\n",
       "      <td>2015</td>\n",
       "    </tr>\n",
       "    <tr>\n",
       "      <th>2369</th>\n",
       "      <td>2369</td>\n",
       "      <td>30-01-2015</td>\n",
       "      <td>Mad Street Den</td>\n",
       "      <td>NaN</td>\n",
       "      <td>NaN</td>\n",
       "      <td>NaN</td>\n",
       "      <td>Exfinity Fund, GrowX Ventures.</td>\n",
       "      <td>Private Equity</td>\n",
       "      <td>15,00,000</td>\n",
       "      <td>NaN</td>\n",
       "      <td>2015</td>\n",
       "    </tr>\n",
       "    <tr>\n",
       "      <th>2370</th>\n",
       "      <td>2370</td>\n",
       "      <td>30-01-2015</td>\n",
       "      <td>Simplotel</td>\n",
       "      <td>NaN</td>\n",
       "      <td>NaN</td>\n",
       "      <td>NaN</td>\n",
       "      <td>MakeMyTrip</td>\n",
       "      <td>Private Equity</td>\n",
       "      <td>NaN</td>\n",
       "      <td>Strategic Funding, Minority stake</td>\n",
       "      <td>2015</td>\n",
       "    </tr>\n",
       "    <tr>\n",
       "      <th>2371</th>\n",
       "      <td>2371</td>\n",
       "      <td>31-01-2015</td>\n",
       "      <td>couponmachine.in</td>\n",
       "      <td>NaN</td>\n",
       "      <td>NaN</td>\n",
       "      <td>NaN</td>\n",
       "      <td>UK based Group of Angel Investors</td>\n",
       "      <td>Seed Funding</td>\n",
       "      <td>1,40,000</td>\n",
       "      <td>NaN</td>\n",
       "      <td>2015</td>\n",
       "    </tr>\n",
       "  </tbody>\n",
       "</table>\n",
       "<p>2372 rows × 11 columns</p>\n",
       "</div>"
      ],
      "text/plain": [
       "       SNo        Date       StartupName   IndustryVertical  \\\n",
       "0        0  01-08-2017          TouchKin         Technology   \n",
       "1        1  02-08-2017           Ethinos         Technology   \n",
       "2        2  02-08-2017      Leverage Edu  Consumer Internet   \n",
       "3        3  02-08-2017              Zepo  Consumer Internet   \n",
       "4        4  02-08-2017      Click2Clinic  Consumer Internet   \n",
       "...    ...         ...               ...                ...   \n",
       "2367  2367  29-01-2015        Printvenue                NaN   \n",
       "2368  2368  29-01-2015          Graphene                NaN   \n",
       "2369  2369  30-01-2015    Mad Street Den                NaN   \n",
       "2370  2370  30-01-2015         Simplotel                NaN   \n",
       "2371  2371  31-01-2015  couponmachine.in                NaN   \n",
       "\n",
       "                                        SubVertical CityLocation  \\\n",
       "0                          Predictive Care Platform    Bangalore   \n",
       "1                          Digital Marketing Agency       Mumbai   \n",
       "2     Online platform for Higher Education Services    New Delhi   \n",
       "3                            DIY Ecommerce platform       Mumbai   \n",
       "4                     healthcare service aggregator    Hyderabad   \n",
       "...                                             ...          ...   \n",
       "2367                                            NaN          NaN   \n",
       "2368                                            NaN          NaN   \n",
       "2369                                            NaN          NaN   \n",
       "2370                                            NaN          NaN   \n",
       "2371                                            NaN          NaN   \n",
       "\n",
       "                                          InvestorsName  InvestmentType  \\\n",
       "0                                           Kae Capital  Private Equity   \n",
       "1                            Triton Investment Advisors  Private Equity   \n",
       "2     Kashyap Deorah, Anand Sankeshwar, Deepak Jain,...    Seed Funding   \n",
       "3     Kunal Shah, LetsVenture, Anupam Mittal, Hetal ...    Seed Funding   \n",
       "4                        Narottam Thudi, Shireesh Palle    Seed Funding   \n",
       "...                                                 ...             ...   \n",
       "2367                        Asia Pacific Internet Group  Private Equity   \n",
       "2368                                     KARSEMVEN Fund  Private Equity   \n",
       "2369                     Exfinity Fund, GrowX Ventures.  Private Equity   \n",
       "2370                                         MakeMyTrip  Private Equity   \n",
       "2371                  UK based Group of Angel Investors    Seed Funding   \n",
       "\n",
       "     AmountInUSD                            Remarks  Year  \n",
       "0      13,00,000                                NaN  2017  \n",
       "1            NaN                                NaN  2017  \n",
       "2            NaN                                NaN  2017  \n",
       "3       5,00,000                                NaN  2017  \n",
       "4       8,50,000                                NaN  2017  \n",
       "...          ...                                ...   ...  \n",
       "2367   45,00,000                                NaN  2015  \n",
       "2368    8,25,000                Govt backed VC Fund  2015  \n",
       "2369   15,00,000                                NaN  2015  \n",
       "2370         NaN  Strategic Funding, Minority stake  2015  \n",
       "2371    1,40,000                                NaN  2015  \n",
       "\n",
       "[2372 rows x 11 columns]"
      ]
     },
     "execution_count": 8,
     "metadata": {},
     "output_type": "execute_result"
    }
   ],
   "source": [
    "df"
   ]
  },
  {
   "cell_type": "markdown",
   "id": "d110a96a",
   "metadata": {},
   "source": [
    "## STEP 4: CECKING TO CONFIRM THAT DATA TYPE OF Year COLUMN IS int TO PERFORM FURTHER ANALYSIS"
   ]
  },
  {
   "cell_type": "code",
   "execution_count": 9,
   "id": "6ddb391f",
   "metadata": {},
   "outputs": [
    {
     "data": {
      "text/plain": [
       "dtype('int64')"
      ]
     },
     "execution_count": 9,
     "metadata": {},
     "output_type": "execute_result"
    }
   ],
   "source": [
    "df['Year'].dtypes"
   ]
  },
  {
   "cell_type": "markdown",
   "id": "c744a699",
   "metadata": {},
   "source": [
    "## STEP 5: COUNTING THE NUMBER OF FUNDINGS EACH YEAR BY USING value_counts function"
   ]
  },
  {
   "cell_type": "code",
   "execution_count": 10,
   "id": "e84011ef",
   "metadata": {},
   "outputs": [],
   "source": [
    "a=df[\"Year\"].value_counts()\n",
    "year=a.index\n",
    "Number_of_Fundings=a.values"
   ]
  },
  {
   "cell_type": "code",
   "execution_count": 11,
   "id": "874f86f0",
   "metadata": {},
   "outputs": [
    {
     "data": {
      "text/plain": [
       "2016    993\n",
       "2015    936\n",
       "2017    443\n",
       "Name: Year, dtype: int64"
      ]
     },
     "execution_count": 11,
     "metadata": {},
     "output_type": "execute_result"
    }
   ],
   "source": [
    "a"
   ]
  },
  {
   "cell_type": "markdown",
   "id": "906f7ae7",
   "metadata": {},
   "source": [
    "## STEP 6: CONVERTING IT INTO A LIST"
   ]
  },
  {
   "cell_type": "code",
   "execution_count": 12,
   "id": "3b618063",
   "metadata": {},
   "outputs": [],
   "source": [
    "lst = list(zip(year,Number_of_Fundings))"
   ]
  },
  {
   "cell_type": "markdown",
   "id": "f4b266d7",
   "metadata": {},
   "source": [
    "## STEP 7: CREATING A DATAFRAME WITH COLUMNS YEAR AND NUMBER OF FUNDINGS"
   ]
  },
  {
   "cell_type": "code",
   "execution_count": 13,
   "id": "39058a01",
   "metadata": {
    "scrolled": true
   },
   "outputs": [
    {
     "data": {
      "text/html": [
       "<div>\n",
       "<style scoped>\n",
       "    .dataframe tbody tr th:only-of-type {\n",
       "        vertical-align: middle;\n",
       "    }\n",
       "\n",
       "    .dataframe tbody tr th {\n",
       "        vertical-align: top;\n",
       "    }\n",
       "\n",
       "    .dataframe thead th {\n",
       "        text-align: right;\n",
       "    }\n",
       "</style>\n",
       "<table border=\"1\" class=\"dataframe\">\n",
       "  <thead>\n",
       "    <tr style=\"text-align: right;\">\n",
       "      <th></th>\n",
       "      <th>Year</th>\n",
       "      <th>Number_of_Fundings</th>\n",
       "    </tr>\n",
       "  </thead>\n",
       "  <tbody>\n",
       "    <tr>\n",
       "      <th>0</th>\n",
       "      <td>2016</td>\n",
       "      <td>993</td>\n",
       "    </tr>\n",
       "    <tr>\n",
       "      <th>1</th>\n",
       "      <td>2015</td>\n",
       "      <td>936</td>\n",
       "    </tr>\n",
       "    <tr>\n",
       "      <th>2</th>\n",
       "      <td>2017</td>\n",
       "      <td>443</td>\n",
       "    </tr>\n",
       "  </tbody>\n",
       "</table>\n",
       "</div>"
      ],
      "text/plain": [
       "   Year  Number_of_Fundings\n",
       "0  2016                 993\n",
       "1  2015                 936\n",
       "2  2017                 443"
      ]
     },
     "execution_count": 13,
     "metadata": {},
     "output_type": "execute_result"
    }
   ],
   "source": [
    "df1=pd.DataFrame(lst,columns= ['Year','Number_of_Fundings'])\n",
    "df1  "
   ]
  },
  {
   "cell_type": "markdown",
   "id": "bc988edf",
   "metadata": {},
   "source": [
    "## STEP 8: ANALYSIS USING LINE GRAPH TO SHOW NUMBER OF FUNDINGS FOR EACH YEAR"
   ]
  },
  {
   "cell_type": "code",
   "execution_count": 14,
   "id": "8344e25b",
   "metadata": {},
   "outputs": [
    {
     "data": {
      "image/png": "[encoded data removed]",
      "text/plain": [
       "<Figure size 432x288 with 1 Axes>"
      ]
     },
     "metadata": {
      "needs_background": "light"
     },
     "output_type": "display_data"
    }
   ],
   "source": [
    "x=df1['Year']\n",
    "y=df1['Number_of_Fundings']\n",
    "plt.plot(x,y,linewidth=4,color=\"orange\")\n",
    "plt.axis([2015,2020,0,1200])\n",
    "plt.xticks(rotation=45)\n",
    "plt.text(2016,993,\"Highest Number of fundings\",fontsize=14)\n",
    "plt.ylabel(\"NO OF FUNDINGS\")\n",
    "plt.xlabel(\"YEAR\")\n",
    "plt.title(\"ANALYSIS OF NUMBER OF FUNDINGS FOR A PARTICULAR YEAR\")\n",
    "plt.show()"
   ]
  },
  {
   "cell_type": "code",
   "execution_count": 15,
   "id": "6c104564",
   "metadata": {},
   "outputs": [
    {
     "data": {
      "text/html": [
       "<div>\n",
       "<style scoped>\n",
       "    .dataframe tbody tr th:only-of-type {\n",
       "        vertical-align: middle;\n",
       "    }\n",
       "\n",
       "    .dataframe tbody tr th {\n",
       "        vertical-align: top;\n",
       "    }\n",
       "\n",
       "    .dataframe thead th {\n",
       "        text-align: right;\n",
       "    }\n",
       "</style>\n",
       "<table border=\"1\" class=\"dataframe\">\n",
       "  <thead>\n",
       "    <tr style=\"text-align: right;\">\n",
       "      <th></th>\n",
       "      <th>Year</th>\n",
       "      <th>Number_of_Fundings</th>\n",
       "    </tr>\n",
       "  </thead>\n",
       "  <tbody>\n",
       "    <tr>\n",
       "      <th>1</th>\n",
       "      <td>2015</td>\n",
       "      <td>936</td>\n",
       "    </tr>\n",
       "    <tr>\n",
       "      <th>0</th>\n",
       "      <td>2016</td>\n",
       "      <td>993</td>\n",
       "    </tr>\n",
       "    <tr>\n",
       "      <th>2</th>\n",
       "      <td>2017</td>\n",
       "      <td>443</td>\n",
       "    </tr>\n",
       "  </tbody>\n",
       "</table>\n",
       "</div>"
      ],
      "text/plain": [
       "   Year  Number_of_Fundings\n",
       "1  2015                 936\n",
       "0  2016                 993\n",
       "2  2017                 443"
      ]
     },
     "execution_count": 15,
     "metadata": {},
     "output_type": "execute_result"
    }
   ],
   "source": [
    "df1.sort_values('Year',ascending=True)"
   ]
  },
  {
   "cell_type": "markdown",
   "id": "be380fed",
   "metadata": {},
   "source": [
    "# FINDING TOP 10 INDIAN CITIES WHICH HAVE THE MOST NUMBER OF STARTUPS"
   ]
  },
  {
   "cell_type": "markdown",
   "id": "428e27c6",
   "metadata": {},
   "source": [
    "## STEP 1: FINDING NO OF MISSING VALUES FOR EACH COLUMN"
   ]
  },
  {
   "cell_type": "code",
   "execution_count": 16,
   "id": "367d6be3",
   "metadata": {
    "scrolled": true
   },
   "outputs": [
    {
     "data": {
      "text/plain": [
       "SNo                    0\n",
       "Date                   0\n",
       "StartupName            0\n",
       "IndustryVertical     171\n",
       "SubVertical          936\n",
       "CityLocation         179\n",
       "InvestorsName          8\n",
       "InvestmentType         1\n",
       "AmountInUSD          847\n",
       "Remarks             1953\n",
       "Year                   0\n",
       "dtype: int64"
      ]
     },
     "execution_count": 16,
     "metadata": {},
     "output_type": "execute_result"
    }
   ],
   "source": [
    "df.isnull().sum()"
   ]
  },
  {
   "cell_type": "markdown",
   "id": "eff1e528",
   "metadata": {},
   "source": [
    "## STEP 2: DROPPING REMARKS AND Sno COLUMN SINCE MOST OF THE VALUES IN REMARKS ARE NULL"
   ]
  },
  {
   "cell_type": "code",
   "execution_count": 17,
   "id": "189bd0f2",
   "metadata": {},
   "outputs": [],
   "source": [
    "df=df.drop(['Remarks','SNo'],axis=1)"
   ]
  },
  {
   "cell_type": "code",
   "execution_count": 18,
   "id": "217a0679",
   "metadata": {},
   "outputs": [
    {
     "data": {
      "text/html": [
       "<div>\n",
       "<style scoped>\n",
       "    .dataframe tbody tr th:only-of-type {\n",
       "        vertical-align: middle;\n",
       "    }\n",
       "\n",
       "    .dataframe tbody tr th {\n",
       "        vertical-align: top;\n",
       "    }\n",
       "\n",
       "    .dataframe thead th {\n",
       "        text-align: right;\n",
       "    }\n",
       "</style>\n",
       "<table border=\"1\" class=\"dataframe\">\n",
       "  <thead>\n",
       "    <tr style=\"text-align: right;\">\n",
       "      <th></th>\n",
       "      <th>Date</th>\n",
       "      <th>StartupName</th>\n",
       "      <th>IndustryVertical</th>\n",
       "      <th>SubVertical</th>\n",
       "      <th>CityLocation</th>\n",
       "      <th>InvestorsName</th>\n",
       "      <th>InvestmentType</th>\n",
       "      <th>AmountInUSD</th>\n",
       "      <th>Year</th>\n",
       "    </tr>\n",
       "  </thead>\n",
       "  <tbody>\n",
       "    <tr>\n",
       "      <th>0</th>\n",
       "      <td>01-08-2017</td>\n",
       "      <td>TouchKin</td>\n",
       "      <td>Technology</td>\n",
       "      <td>Predictive Care Platform</td>\n",
       "      <td>Bangalore</td>\n",
       "      <td>Kae Capital</td>\n",
       "      <td>Private Equity</td>\n",
       "      <td>13,00,000</td>\n",
       "      <td>2017</td>\n",
       "    </tr>\n",
       "    <tr>\n",
       "      <th>1</th>\n",
       "      <td>02-08-2017</td>\n",
       "      <td>Ethinos</td>\n",
       "      <td>Technology</td>\n",
       "      <td>Digital Marketing Agency</td>\n",
       "      <td>Mumbai</td>\n",
       "      <td>Triton Investment Advisors</td>\n",
       "      <td>Private Equity</td>\n",
       "      <td>NaN</td>\n",
       "      <td>2017</td>\n",
       "    </tr>\n",
       "    <tr>\n",
       "      <th>2</th>\n",
       "      <td>02-08-2017</td>\n",
       "      <td>Leverage Edu</td>\n",
       "      <td>Consumer Internet</td>\n",
       "      <td>Online platform for Higher Education Services</td>\n",
       "      <td>New Delhi</td>\n",
       "      <td>Kashyap Deorah, Anand Sankeshwar, Deepak Jain,...</td>\n",
       "      <td>Seed Funding</td>\n",
       "      <td>NaN</td>\n",
       "      <td>2017</td>\n",
       "    </tr>\n",
       "    <tr>\n",
       "      <th>3</th>\n",
       "      <td>02-08-2017</td>\n",
       "      <td>Zepo</td>\n",
       "      <td>Consumer Internet</td>\n",
       "      <td>DIY Ecommerce platform</td>\n",
       "      <td>Mumbai</td>\n",
       "      <td>Kunal Shah, LetsVenture, Anupam Mittal, Hetal ...</td>\n",
       "      <td>Seed Funding</td>\n",
       "      <td>5,00,000</td>\n",
       "      <td>2017</td>\n",
       "    </tr>\n",
       "    <tr>\n",
       "      <th>4</th>\n",
       "      <td>02-08-2017</td>\n",
       "      <td>Click2Clinic</td>\n",
       "      <td>Consumer Internet</td>\n",
       "      <td>healthcare service aggregator</td>\n",
       "      <td>Hyderabad</td>\n",
       "      <td>Narottam Thudi, Shireesh Palle</td>\n",
       "      <td>Seed Funding</td>\n",
       "      <td>8,50,000</td>\n",
       "      <td>2017</td>\n",
       "    </tr>\n",
       "    <tr>\n",
       "      <th>...</th>\n",
       "      <td>...</td>\n",
       "      <td>...</td>\n",
       "      <td>...</td>\n",
       "      <td>...</td>\n",
       "      <td>...</td>\n",
       "      <td>...</td>\n",
       "      <td>...</td>\n",
       "      <td>...</td>\n",
       "      <td>...</td>\n",
       "    </tr>\n",
       "    <tr>\n",
       "      <th>2367</th>\n",
       "      <td>29-01-2015</td>\n",
       "      <td>Printvenue</td>\n",
       "      <td>NaN</td>\n",
       "      <td>NaN</td>\n",
       "      <td>NaN</td>\n",
       "      <td>Asia Pacific Internet Group</td>\n",
       "      <td>Private Equity</td>\n",
       "      <td>45,00,000</td>\n",
       "      <td>2015</td>\n",
       "    </tr>\n",
       "    <tr>\n",
       "      <th>2368</th>\n",
       "      <td>29-01-2015</td>\n",
       "      <td>Graphene</td>\n",
       "      <td>NaN</td>\n",
       "      <td>NaN</td>\n",
       "      <td>NaN</td>\n",
       "      <td>KARSEMVEN Fund</td>\n",
       "      <td>Private Equity</td>\n",
       "      <td>8,25,000</td>\n",
       "      <td>2015</td>\n",
       "    </tr>\n",
       "    <tr>\n",
       "      <th>2369</th>\n",
       "      <td>30-01-2015</td>\n",
       "      <td>Mad Street Den</td>\n",
       "      <td>NaN</td>\n",
       "      <td>NaN</td>\n",
       "      <td>NaN</td>\n",
       "      <td>Exfinity Fund, GrowX Ventures.</td>\n",
       "      <td>Private Equity</td>\n",
       "      <td>15,00,000</td>\n",
       "      <td>2015</td>\n",
       "    </tr>\n",
       "    <tr>\n",
       "      <th>2370</th>\n",
       "      <td>30-01-2015</td>\n",
       "      <td>Simplotel</td>\n",
       "      <td>NaN</td>\n",
       "      <td>NaN</td>\n",
       "      <td>NaN</td>\n",
       "      <td>MakeMyTrip</td>\n",
       "      <td>Private Equity</td>\n",
       "      <td>NaN</td>\n",
       "      <td>2015</td>\n",
       "    </tr>\n",
       "    <tr>\n",
       "      <th>2371</th>\n",
       "      <td>31-01-2015</td>\n",
       "      <td>couponmachine.in</td>\n",
       "      <td>NaN</td>\n",
       "      <td>NaN</td>\n",
       "      <td>NaN</td>\n",
       "      <td>UK based Group of Angel Investors</td>\n",
       "      <td>Seed Funding</td>\n",
       "      <td>1,40,000</td>\n",
       "      <td>2015</td>\n",
       "    </tr>\n",
       "  </tbody>\n",
       "</table>\n",
       "<p>2372 rows × 9 columns</p>\n",
       "</div>"
      ],
      "text/plain": [
       "            Date       StartupName   IndustryVertical  \\\n",
       "0     01-08-2017          TouchKin         Technology   \n",
       "1     02-08-2017           Ethinos         Technology   \n",
       "2     02-08-2017      Leverage Edu  Consumer Internet   \n",
       "3     02-08-2017              Zepo  Consumer Internet   \n",
       "4     02-08-2017      Click2Clinic  Consumer Internet   \n",
       "...          ...               ...                ...   \n",
       "2367  29-01-2015        Printvenue                NaN   \n",
       "2368  29-01-2015          Graphene                NaN   \n",
       "2369  30-01-2015    Mad Street Den                NaN   \n",
       "2370  30-01-2015         Simplotel                NaN   \n",
       "2371  31-01-2015  couponmachine.in                NaN   \n",
       "\n",
       "                                        SubVertical CityLocation  \\\n",
       "0                          Predictive Care Platform    Bangalore   \n",
       "1                          Digital Marketing Agency       Mumbai   \n",
       "2     Online platform for Higher Education Services    New Delhi   \n",
       "3                            DIY Ecommerce platform       Mumbai   \n",
       "4                     healthcare service aggregator    Hyderabad   \n",
       "...                                             ...          ...   \n",
       "2367                                            NaN          NaN   \n",
       "2368                                            NaN          NaN   \n",
       "2369                                            NaN          NaN   \n",
       "2370                                            NaN          NaN   \n",
       "2371                                            NaN          NaN   \n",
       "\n",
       "                                          InvestorsName  InvestmentType  \\\n",
       "0                                           Kae Capital  Private Equity   \n",
       "1                            Triton Investment Advisors  Private Equity   \n",
       "2     Kashyap Deorah, Anand Sankeshwar, Deepak Jain,...    Seed Funding   \n",
       "3     Kunal Shah, LetsVenture, Anupam Mittal, Hetal ...    Seed Funding   \n",
       "4                        Narottam Thudi, Shireesh Palle    Seed Funding   \n",
       "...                                                 ...             ...   \n",
       "2367                        Asia Pacific Internet Group  Private Equity   \n",
       "2368                                     KARSEMVEN Fund  Private Equity   \n",
       "2369                     Exfinity Fund, GrowX Ventures.  Private Equity   \n",
       "2370                                         MakeMyTrip  Private Equity   \n",
       "2371                  UK based Group of Angel Investors    Seed Funding   \n",
       "\n",
       "     AmountInUSD  Year  \n",
       "0      13,00,000  2017  \n",
       "1            NaN  2017  \n",
       "2            NaN  2017  \n",
       "3       5,00,000  2017  \n",
       "4       8,50,000  2017  \n",
       "...          ...   ...  \n",
       "2367   45,00,000  2015  \n",
       "2368    8,25,000  2015  \n",
       "2369   15,00,000  2015  \n",
       "2370         NaN  2015  \n",
       "2371    1,40,000  2015  \n",
       "\n",
       "[2372 rows x 9 columns]"
      ]
     },
     "execution_count": 18,
     "metadata": {},
     "output_type": "execute_result"
    }
   ],
   "source": [
    "df"
   ]
  },
  {
   "cell_type": "markdown",
   "id": "e6e86c4a",
   "metadata": {},
   "source": [
    "## STEP 3: DROPPING ALL NULL VALUES"
   ]
  },
  {
   "cell_type": "code",
   "execution_count": 19,
   "id": "360606a3",
   "metadata": {},
   "outputs": [],
   "source": [
    "df.dropna(inplace=True,subset=[\"CityLocation\"])"
   ]
  },
  {
   "cell_type": "markdown",
   "id": "57428840",
   "metadata": {},
   "source": [
    "## STEP 4: FINDING UNIQUE CITIES SO AS TO CORRECT ERRORS"
   ]
  },
  {
   "cell_type": "code",
   "execution_count": 20,
   "id": "749b6719",
   "metadata": {
    "scrolled": true
   },
   "outputs": [
    {
     "data": {
      "text/plain": [
       "array(['Bangalore', 'Mumbai', 'New Delhi', 'Hyderabad', 'Ahmedabad',\n",
       "       'Gurgaon', 'Noida', 'Pune', 'Kolkata', 'bangalore', 'Trivandrum',\n",
       "       'Chennai', 'Chandigarh', 'Jaipur', 'Vadodara', 'Surat',\n",
       "       'Missourie', 'Panaji', 'Gwalior', 'Karur', 'Udupi', 'Kochi',\n",
       "       'Indore', 'Singapore', 'Goa', 'Agra', 'Bangalore/ Bangkok',\n",
       "       'Hubli', 'Delhi', 'Kerala', 'Kozhikode', 'US', 'Coimbatore',\n",
       "       'Siliguri', 'USA', 'Lucknow', 'Kanpur', 'SFO / Bangalore',\n",
       "       'London', 'Seattle / Bangalore', 'Pune/Seattle', 'Pune / Dubai',\n",
       "       'Bangalore / SFO', 'Varanasi', 'Bhopal', 'New Delhi / US',\n",
       "       'Mumbai / UK', 'Jodhpur', 'Hyderabad/USA', 'Boston',\n",
       "       'Bangalore / Palo Alto', 'Mumbai / NY', 'USA/India',\n",
       "       'Goa/Hyderabad', 'Noida / Singapore', 'Belgaum', 'Pune / US',\n",
       "       'Chennai/ Singapore', 'Pune / Singapore', 'Bangalore / San Mateo',\n",
       "       'New York/ India', 'US/India', 'Gurgaon / SFO', 'Bangalore / USA',\n",
       "       'New Delhi/ Houston', 'Nagpur', 'Mumbai / Global', 'India / US',\n",
       "       'Udaipur', 'New Delhi / California', 'Dallas / Hyderabad'],\n",
       "      dtype=object)"
      ]
     },
     "execution_count": 20,
     "metadata": {},
     "output_type": "execute_result"
    }
   ],
   "source": [
    "df['CityLocation'].unique()"
   ]
  },
  {
   "cell_type": "markdown",
   "id": "ed381c14",
   "metadata": {},
   "source": [
    "## STEP 5: CHECKING FOR CASE SENSITIVE AND OTHER MISPLETS"
   ]
  },
  {
   "cell_type": "code",
   "execution_count": 21,
   "id": "e2cae5cb",
   "metadata": {},
   "outputs": [],
   "source": [
    "df['CityLocation'].replace(\"bangalore\", \"Bangalore\", inplace = True)\n",
    "df['CityLocation'].replace(\"Delhi\", \"New Delhi\", inplace = True)\n",
    "df['CityLocation'].replace(\"SFO / Bangalor\", \"Bangalore\", inplace = True)\n",
    "df['CityLocation'].replace(\"Seattle / Bangalore\", \"Bangalore\", inplace = True)"
   ]
  },
  {
   "cell_type": "markdown",
   "id": "0dcb3fc8",
   "metadata": {},
   "source": [
    "## STEP 6: FUNCTION TO TAKE STARTUPS WHOSE LOCATION HAS NAME OF INDIAN CITIES IN THE STARTING"
   ]
  },
  {
   "cell_type": "code",
   "execution_count": 22,
   "id": "a7f558ac",
   "metadata": {},
   "outputs": [],
   "source": [
    "def ind_city(city):\n",
    "    return city.split('/')[0].strip()"
   ]
  },
  {
   "cell_type": "code",
   "execution_count": 23,
   "id": "3699a883",
   "metadata": {},
   "outputs": [],
   "source": [
    "df['CityLocation'] = df['CityLocation'].apply(ind_city)"
   ]
  },
  {
   "cell_type": "markdown",
   "id": "65bb00a8",
   "metadata": {},
   "source": [
    "## STEP 7:FINALLY CHECKING UNIQUE VALUES IN CityLocation TO ENSURE EVERYTING IS FINE"
   ]
  },
  {
   "cell_type": "code",
   "execution_count": 24,
   "id": "4dd123d5",
   "metadata": {},
   "outputs": [
    {
     "data": {
      "text/plain": [
       "array(['Bangalore', 'Mumbai', 'New Delhi', 'Hyderabad', 'Ahmedabad',\n",
       "       'Gurgaon', 'Noida', 'Pune', 'Kolkata', 'Trivandrum', 'Chennai',\n",
       "       'Chandigarh', 'Jaipur', 'Vadodara', 'Surat', 'Missourie', 'Panaji',\n",
       "       'Gwalior', 'Karur', 'Udupi', 'Kochi', 'Indore', 'Singapore', 'Goa',\n",
       "       'Agra', 'Hubli', 'Kerala', 'Kozhikode', 'US', 'Coimbatore',\n",
       "       'Siliguri', 'USA', 'Lucknow', 'Kanpur', 'SFO', 'London',\n",
       "       'Varanasi', 'Bhopal', 'Jodhpur', 'Boston', 'Belgaum', 'New York',\n",
       "       'Nagpur', 'India', 'Udaipur', 'Dallas'], dtype=object)"
      ]
     },
     "execution_count": 24,
     "metadata": {},
     "output_type": "execute_result"
    }
   ],
   "source": [
    "df['CityLocation'].unique()"
   ]
  },
  {
   "cell_type": "markdown",
   "id": "3869bb5f",
   "metadata": {},
   "source": [
    "## STEP 8: COUNTING NUMBER OF STARTUPS FOR EACH CITY"
   ]
  },
  {
   "cell_type": "code",
   "execution_count": 25,
   "id": "09cfd3bf",
   "metadata": {},
   "outputs": [],
   "source": [
    "b=df[\"CityLocation\"].value_counts()"
   ]
  },
  {
   "cell_type": "code",
   "execution_count": 26,
   "id": "4d443154",
   "metadata": {},
   "outputs": [
    {
     "data": {
      "text/plain": [
       "Bangalore     636\n",
       "Mumbai        449\n",
       "New Delhi     389\n",
       "Gurgaon       241\n",
       "Pune           91\n",
       "Noida          79\n",
       "Hyderabad      77\n",
       "Chennai        67\n",
       "Ahmedabad      35\n",
       "Jaipur         25\n",
       "Kolkata        19\n",
       "Chandigarh     10\n",
       "Indore          9\n",
       "Vadodara        9\n",
       "Goa             8\n",
       "Singapore       5\n",
       "Kanpur          4\n",
       "Coimbatore      3\n",
       "USA             2\n",
       "Kochi           2\n",
       "Udupi           2\n",
       "Siliguri        2\n",
       "US              2\n",
       "Bhopal          2\n",
       "Gwalior         2\n",
       "Agra            2\n",
       "Trivandrum      2\n",
       "Karur           1\n",
       "Boston          1\n",
       "Hubli           1\n",
       "Panaji          1\n",
       "Udaipur         1\n",
       "New York        1\n",
       "India           1\n",
       "Surat           1\n",
       "Kozhikode       1\n",
       "Jodhpur         1\n",
       "London          1\n",
       "Nagpur          1\n",
       "Dallas          1\n",
       "Kerala          1\n",
       "SFO             1\n",
       "Belgaum         1\n",
       "Varanasi        1\n",
       "Lucknow         1\n",
       "Missourie       1\n",
       "Name: CityLocation, dtype: int64"
      ]
     },
     "execution_count": 26,
     "metadata": {},
     "output_type": "execute_result"
    }
   ],
   "source": [
    "b"
   ]
  },
  {
   "cell_type": "markdown",
   "id": "2ceea1d9",
   "metadata": {},
   "source": [
    "## STEP 9: FINDING TOP 10 INDIAN CITIES IN TERMS OF STARTUP"
   ]
  },
  {
   "cell_type": "code",
   "execution_count": 27,
   "id": "8127b5d6",
   "metadata": {
    "scrolled": true
   },
   "outputs": [
    {
     "data": {
      "text/plain": [
       "Bangalore    636\n",
       "Mumbai       449\n",
       "New Delhi    389\n",
       "Gurgaon      241\n",
       "Pune          91\n",
       "Noida         79\n",
       "Hyderabad     77\n",
       "Chennai       67\n",
       "Ahmedabad     35\n",
       "Jaipur        25\n",
       "Name: CityLocation, dtype: int64"
      ]
     },
     "execution_count": 27,
     "metadata": {},
     "output_type": "execute_result"
    }
   ],
   "source": [
    "b.head(10)"
   ]
  },
  {
   "cell_type": "markdown",
   "id": "7d0633a5",
   "metadata": {},
   "source": [
    "## STEP 10: ANALYSING TOP 10 cities in terms of startup using a pie chart"
   ]
  },
  {
   "cell_type": "code",
   "execution_count": 28,
   "id": "c4f17f91",
   "metadata": {},
   "outputs": [
    {
     "data": {
      "image/png": "[encoded data removed]",
      "text/plain": [
       "<Figure size 432x288 with 1 Axes>"
      ]
     },
     "metadata": {},
     "output_type": "display_data"
    }
   ],
   "source": [
    "no_of_fundings=[636,449,389,241,91,79,77,67,35,25]\n",
    "cities=[\"Bangalore\",\"Mumbai\",\"New Delhi\",\"Gurgaon\",\"Pune\",\"Noida\",\"Hyderabad\",\"Chennai\",\"Ahmedabad\",\"Jaipur\"]\n",
    "colors=[\"purple\",\"yellow\",\"pink\",\"red\",\"purple\",\"orange\",\"red\",\"green\",\"brown\",\"yellow\"]\n",
    "explode=[0,0,0,0,0.5,0.5,0.6,0.7,0.9,0]\n",
    "plt.pie(no_of_fundings,colors=colors,labels=cities,autopct=\"%.2f\",startangle=100,explode=explode)\n",
    "plt.axis(\"equal\")\n",
    "plt.title(\"Pie Chart Analysing Top 10 Cities in Startup\")\n",
    "plt.show()"
   ]
  },
  {
   "cell_type": "markdown",
   "id": "7a65bfdf",
   "metadata": {},
   "source": [
    "# FINDING TOP 10 CITIES WITH THE MOST AMOUNT OF FUNDINGS"
   ]
  },
  {
   "cell_type": "code",
   "execution_count": 29,
   "id": "16ca9f95",
   "metadata": {
    "scrolled": true
   },
   "outputs": [
    {
     "data": {
      "text/plain": [
       "Date                  0\n",
       "StartupName           0\n",
       "IndustryVertical      0\n",
       "SubVertical         762\n",
       "CityLocation          0\n",
       "InvestorsName         8\n",
       "InvestmentType        1\n",
       "AmountInUSD         803\n",
       "Year                  0\n",
       "dtype: int64"
      ]
     },
     "execution_count": 29,
     "metadata": {},
     "output_type": "execute_result"
    }
   ],
   "source": [
    "df.isnull().sum()"
   ]
  },
  {
   "cell_type": "markdown",
   "id": "ef9779d6",
   "metadata": {},
   "source": [
    "## FINDING UNIQUE VALUES AND REPLACING ',' with '' to avoid problems in analysis"
   ]
  },
  {
   "cell_type": "code",
   "execution_count": 30,
   "id": "b342a248",
   "metadata": {},
   "outputs": [],
   "source": [
    "df['AmountInUSD'] = df['AmountInUSD'].str.replace(',','')\n"
   ]
  },
  {
   "cell_type": "code",
   "execution_count": 31,
   "id": "e6014a2a",
   "metadata": {},
   "outputs": [
    {
     "data": {
      "text/plain": [
       "array(['1300000', nan, '500000', '850000', '1000000', '2600000',\n",
       "       '20000000', '8500000', '12000000', '3000000', '2250000', '464000',\n",
       "       '18500000', '540000', '1700000', '2000000', '4000000', '10000000',\n",
       "       '600000', '700000', '200000', '1200000', '35000000', '25000000',\n",
       "       '15000000', '1250000', '50000000', '650000', '232000', '1500000',\n",
       "       '350000', '300000', '250000', '7800000', '776000', '5500000',\n",
       "       '12300000', '100000', '12500000', '5200000', '2400000', '4500000',\n",
       "       '215000', '31000000', '4600000', '5000000', '71000000', '311000',\n",
       "       '21000000', '73700000', '390000', '104500000', '233000', '50000',\n",
       "       '1400000', '7700000', '466000', '5300000', '1400000000',\n",
       "       '30000000', '6600000', '580000', '8000000', '3500000', '80000000',\n",
       "       '7000000', '3800000', '8200000', '40000000', '2700000', '6100000',\n",
       "       '3690000', '18000000', '150000', '2300000', '2100000', '260000000',\n",
       "       '310000', '175000', '620000', '4650000', '155000', '6300000',\n",
       "       '250000000', '3200000', '245000', '3100000', '11000000', '3600000',\n",
       "       '750000', '330000000', '2500000', '7600000', '275000', '6700000',\n",
       "       '200000000', '19500000', '1790000', '30000', '3650000', '1100000',\n",
       "       '120000', '443000', '3350000', '1350000', '3670000', '191000',\n",
       "       '56000000', '382000', '100000000', '325000', '450000', '55000000',\n",
       "       '40000', '6000000', '5800000', '7500000', '330000', '400000',\n",
       "       '22400000', '6500000', '15200000', '38700000', '375000', '94000',\n",
       "       '70000000', '366000', '825000', '13000000', '57000000', '800000',\n",
       "       '4100000', '440000', '441000', '147000', '2200000', '8800000',\n",
       "       '106000', '22500', '68000', '18000', '9000000', '11100000',\n",
       "       '297000', '23000000', '123000', '7400000', '162000', '324000',\n",
       "       '45000', '75000000', '13500000', '90000', '963000', '218000',\n",
       "       '4200000', '3750000', '1050000', '25000', '227000', '16000000',\n",
       "       '971000', '27000000', '900000', '315000', '670000', '448000',\n",
       "       '31300000', '298000', '425000', '745000', '1580000', '51000000',\n",
       "       '180000', '19000000', '1800000', '225000', '890000', '27000',\n",
       "       '445000', '209000', '15600000', '62000000', '175000000', '675000',\n",
       "       '37000000', '24000000', '550000', '149000', '104000', '60000000',\n",
       "       '82000000', '740000', '1950000', '12250000', '1070000', '595000',\n",
       "       '75000', '4400000', '210000', '148000', '32000000', '295000',\n",
       "       '220000', '368000', '376000', '145000', '2750000', '89000',\n",
       "       '475000', '8900000', '223608', '14900000', '230000', '108000',\n",
       "       '150000000', '360000', '4700000', '81000', '52000', '125000',\n",
       "       '970000', '73000', '37000', '160000', '70000', '180000000',\n",
       "       '5400000', '16500000', '145000000', '240000', '520000', '7200000',\n",
       "       '515000', '370000', '185000', '17000000', '5150000', '5600000',\n",
       "       '22500000', '303000', '385000', '320000', '16600000', '460000',\n",
       "       '490000', '1900000', '3700000', '34000000', '530000', '500000000',\n",
       "       '455000', '305000', '52000000', '110000', '13400000', '120000000',\n",
       "       '1450000', '9500000', '77000', '190000', '2950000', '1530000',\n",
       "       '640000', '130000', '80000', '45000000', '260000', '205000',\n",
       "       '770000', '9200000', '225000000', '4250000', '410000', '1150000',\n",
       "       '37500000', '235000', '1750000', '3300000', '680000000',\n",
       "       '36000000', '9600000', '785000', '90000000', '630000', '1600000',\n",
       "       '63000000', '156000', '161000', '395000', '20000', '470000',\n",
       "       '10200000', '16200000', '685000', '19350000', '790000', '4850000',\n",
       "       '12750000', '700000000', '168000', '137000000', '234000', '140000',\n",
       "       '8600000', '85000000', '270000', '625000', '165000', '400000000',\n",
       "       '28000000', '21500000'], dtype=object)"
      ]
     },
     "execution_count": 31,
     "metadata": {},
     "output_type": "execute_result"
    }
   ],
   "source": [
    "df['AmountInUSD'].unique()"
   ]
  },
  {
   "cell_type": "markdown",
   "id": "86d4ba41",
   "metadata": {},
   "source": [
    "## FILLING THE MISSING VALUES"
   ]
  },
  {
   "cell_type": "code",
   "execution_count": 32,
   "id": "9ca94d08",
   "metadata": {
    "scrolled": true
   },
   "outputs": [],
   "source": [
    "df[\"AmountInUSD\"]=df['AmountInUSD'].fillna(0)"
   ]
  },
  {
   "cell_type": "code",
   "execution_count": 33,
   "id": "30ca0eb1",
   "metadata": {},
   "outputs": [
    {
     "data": {
      "text/plain": [
       "dtype('O')"
      ]
     },
     "execution_count": 33,
     "metadata": {},
     "output_type": "execute_result"
    }
   ],
   "source": [
    "df[\"AmountInUSD\"].dtype"
   ]
  },
  {
   "cell_type": "markdown",
   "id": "5c10aad9",
   "metadata": {},
   "source": [
    "## CONVERTING AMOUNT TO FLOAT"
   ]
  },
  {
   "cell_type": "code",
   "execution_count": 34,
   "id": "0b82dde8",
   "metadata": {},
   "outputs": [],
   "source": [
    "df[\"AmountInUSD\"]=pd.to_numeric(df[\"AmountInUSD\"])"
   ]
  },
  {
   "cell_type": "code",
   "execution_count": 35,
   "id": "8afdcd62",
   "metadata": {},
   "outputs": [
    {
     "data": {
      "text/plain": [
       "dtype('int64')"
      ]
     },
     "execution_count": 35,
     "metadata": {},
     "output_type": "execute_result"
    }
   ],
   "source": [
    "df[\"AmountInUSD\"].dtype"
   ]
  },
  {
   "cell_type": "markdown",
   "id": "a4cee48f",
   "metadata": {},
   "source": [
    "## USING GROUP BY TO FIND SUM FOR A SPECIFIC CITY"
   ]
  },
  {
   "cell_type": "code",
   "execution_count": 36,
   "id": "20585861",
   "metadata": {},
   "outputs": [],
   "source": [
    "a=df.groupby([\"CityLocation\"])[\"AmountInUSD\"].sum()"
   ]
  },
  {
   "cell_type": "code",
   "execution_count": 37,
   "id": "35984ecf",
   "metadata": {},
   "outputs": [
    {
     "data": {
      "text/plain": [
       "CityLocation\n",
       "Agra                   0\n",
       "Ahmedabad       98186000\n",
       "Bangalore     8422974108\n",
       "Belgaum           500000\n",
       "Bhopal           1900000\n",
       "Boston           3000000\n",
       "Chandigarh      26100000\n",
       "Chennai        411105000\n",
       "Coimbatore       1650000\n",
       "Dallas           1000000\n",
       "Goa              2380000\n",
       "Gurgaon       2069021500\n",
       "Gwalior           900000\n",
       "Hubli                  0\n",
       "Hyderabad      195362000\n",
       "India           30000000\n",
       "Indore           1672000\n",
       "Jaipur          35560000\n",
       "Jodhpur           160000\n",
       "Kanpur            220000\n",
       "Karur                  0\n",
       "Kerala             27000\n",
       "Kochi                  0\n",
       "Kolkata         13865000\n",
       "Kozhikode              0\n",
       "London                 0\n",
       "Lucknow          1000000\n",
       "Missourie         350000\n",
       "Mumbai        2354934500\n",
       "Nagpur                 0\n",
       "New Delhi     2818247500\n",
       "New York         2950000\n",
       "Noida          170638000\n",
       "Panaji            825000\n",
       "Pune           366653000\n",
       "SFO              2700000\n",
       "Siliguri               0\n",
       "Singapore        3850000\n",
       "Surat                  0\n",
       "Trivandrum        100000\n",
       "US               3000000\n",
       "USA             16600000\n",
       "Udaipur                0\n",
       "Udupi           12000000\n",
       "Vadodara         6040000\n",
       "Varanasi           52000\n",
       "Name: AmountInUSD, dtype: int64"
      ]
     },
     "execution_count": 37,
     "metadata": {},
     "output_type": "execute_result"
    }
   ],
   "source": [
    "a"
   ]
  },
  {
   "cell_type": "code",
   "execution_count": 38,
   "id": "1c081d6f",
   "metadata": {},
   "outputs": [],
   "source": [
    "CityLocation=a.index"
   ]
  },
  {
   "cell_type": "code",
   "execution_count": 39,
   "id": "b0cfb1fe",
   "metadata": {},
   "outputs": [],
   "source": [
    "AmountInUSD=a.values"
   ]
  },
  {
   "cell_type": "code",
   "execution_count": 40,
   "id": "1f03a7b1",
   "metadata": {},
   "outputs": [
    {
     "data": {
      "text/plain": [
       "CityLocation\n",
       "Agra                   0\n",
       "Ahmedabad       98186000\n",
       "Bangalore     8422974108\n",
       "Belgaum           500000\n",
       "Bhopal           1900000\n",
       "Boston           3000000\n",
       "Chandigarh      26100000\n",
       "Chennai        411105000\n",
       "Coimbatore       1650000\n",
       "Dallas           1000000\n",
       "Goa              2380000\n",
       "Gurgaon       2069021500\n",
       "Gwalior           900000\n",
       "Hubli                  0\n",
       "Hyderabad      195362000\n",
       "India           30000000\n",
       "Indore           1672000\n",
       "Jaipur          35560000\n",
       "Jodhpur           160000\n",
       "Kanpur            220000\n",
       "Karur                  0\n",
       "Kerala             27000\n",
       "Kochi                  0\n",
       "Kolkata         13865000\n",
       "Kozhikode              0\n",
       "London                 0\n",
       "Lucknow          1000000\n",
       "Missourie         350000\n",
       "Mumbai        2354934500\n",
       "Nagpur                 0\n",
       "New Delhi     2818247500\n",
       "New York         2950000\n",
       "Noida          170638000\n",
       "Panaji            825000\n",
       "Pune           366653000\n",
       "SFO              2700000\n",
       "Siliguri               0\n",
       "Singapore        3850000\n",
       "Surat                  0\n",
       "Trivandrum        100000\n",
       "US               3000000\n",
       "USA             16600000\n",
       "Udaipur                0\n",
       "Udupi           12000000\n",
       "Vadodara         6040000\n",
       "Varanasi           52000\n",
       "Name: AmountInUSD, dtype: int64"
      ]
     },
     "execution_count": 40,
     "metadata": {},
     "output_type": "execute_result"
    }
   ],
   "source": [
    "a"
   ]
  },
  {
   "cell_type": "code",
   "execution_count": 41,
   "id": "be173dec",
   "metadata": {},
   "outputs": [
    {
     "data": {
      "text/plain": [
       "Index(['Agra', 'Ahmedabad', 'Bangalore', 'Belgaum', 'Bhopal', 'Boston',\n",
       "       'Chandigarh', 'Chennai', 'Coimbatore', 'Dallas', 'Goa', 'Gurgaon',\n",
       "       'Gwalior', 'Hubli', 'Hyderabad', 'India', 'Indore', 'Jaipur', 'Jodhpur',\n",
       "       'Kanpur', 'Karur', 'Kerala', 'Kochi', 'Kolkata', 'Kozhikode', 'London',\n",
       "       'Lucknow', 'Missourie', 'Mumbai', 'Nagpur', 'New Delhi', 'New York',\n",
       "       'Noida', 'Panaji', 'Pune', 'SFO', 'Siliguri', 'Singapore', 'Surat',\n",
       "       'Trivandrum', 'US', 'USA', 'Udaipur', 'Udupi', 'Vadodara', 'Varanasi'],\n",
       "      dtype='object', name='CityLocation')"
      ]
     },
     "execution_count": 41,
     "metadata": {},
     "output_type": "execute_result"
    }
   ],
   "source": [
    "CityLocation"
   ]
  },
  {
   "cell_type": "code",
   "execution_count": 42,
   "id": "dd276ae4",
   "metadata": {},
   "outputs": [
    {
     "data": {
      "text/plain": [
       "array([         0,   98186000, 8422974108,     500000,    1900000,\n",
       "          3000000,   26100000,  411105000,    1650000,    1000000,\n",
       "          2380000, 2069021500,     900000,          0,  195362000,\n",
       "         30000000,    1672000,   35560000,     160000,     220000,\n",
       "                0,      27000,          0,   13865000,          0,\n",
       "                0,    1000000,     350000, 2354934500,          0,\n",
       "       2818247500,    2950000,  170638000,     825000,  366653000,\n",
       "          2700000,          0,    3850000,          0,     100000,\n",
       "          3000000,   16600000,          0,   12000000,    6040000,\n",
       "            52000], dtype=int64)"
      ]
     },
     "execution_count": 42,
     "metadata": {},
     "output_type": "execute_result"
    }
   ],
   "source": [
    "AmountInUSD"
   ]
  },
  {
   "cell_type": "code",
   "execution_count": 43,
   "id": "8570e2e3",
   "metadata": {},
   "outputs": [],
   "source": [
    "lst_1=list(zip(CityLocation,AmountInUSD))"
   ]
  },
  {
   "cell_type": "code",
   "execution_count": 44,
   "id": "3319a542",
   "metadata": {},
   "outputs": [
    {
     "data": {
      "text/html": [
       "<div>\n",
       "<style scoped>\n",
       "    .dataframe tbody tr th:only-of-type {\n",
       "        vertical-align: middle;\n",
       "    }\n",
       "\n",
       "    .dataframe tbody tr th {\n",
       "        vertical-align: top;\n",
       "    }\n",
       "\n",
       "    .dataframe thead th {\n",
       "        text-align: right;\n",
       "    }\n",
       "</style>\n",
       "<table border=\"1\" class=\"dataframe\">\n",
       "  <thead>\n",
       "    <tr style=\"text-align: right;\">\n",
       "      <th></th>\n",
       "      <th>CityLocation</th>\n",
       "      <th>AmountInUSD</th>\n",
       "    </tr>\n",
       "  </thead>\n",
       "  <tbody>\n",
       "    <tr>\n",
       "      <th>0</th>\n",
       "      <td>Agra</td>\n",
       "      <td>0</td>\n",
       "    </tr>\n",
       "    <tr>\n",
       "      <th>1</th>\n",
       "      <td>Ahmedabad</td>\n",
       "      <td>98186000</td>\n",
       "    </tr>\n",
       "    <tr>\n",
       "      <th>2</th>\n",
       "      <td>Bangalore</td>\n",
       "      <td>8422974108</td>\n",
       "    </tr>\n",
       "    <tr>\n",
       "      <th>3</th>\n",
       "      <td>Belgaum</td>\n",
       "      <td>500000</td>\n",
       "    </tr>\n",
       "    <tr>\n",
       "      <th>4</th>\n",
       "      <td>Bhopal</td>\n",
       "      <td>1900000</td>\n",
       "    </tr>\n",
       "    <tr>\n",
       "      <th>5</th>\n",
       "      <td>Boston</td>\n",
       "      <td>3000000</td>\n",
       "    </tr>\n",
       "    <tr>\n",
       "      <th>6</th>\n",
       "      <td>Chandigarh</td>\n",
       "      <td>26100000</td>\n",
       "    </tr>\n",
       "    <tr>\n",
       "      <th>7</th>\n",
       "      <td>Chennai</td>\n",
       "      <td>411105000</td>\n",
       "    </tr>\n",
       "    <tr>\n",
       "      <th>8</th>\n",
       "      <td>Coimbatore</td>\n",
       "      <td>1650000</td>\n",
       "    </tr>\n",
       "    <tr>\n",
       "      <th>9</th>\n",
       "      <td>Dallas</td>\n",
       "      <td>1000000</td>\n",
       "    </tr>\n",
       "    <tr>\n",
       "      <th>10</th>\n",
       "      <td>Goa</td>\n",
       "      <td>2380000</td>\n",
       "    </tr>\n",
       "    <tr>\n",
       "      <th>11</th>\n",
       "      <td>Gurgaon</td>\n",
       "      <td>2069021500</td>\n",
       "    </tr>\n",
       "    <tr>\n",
       "      <th>12</th>\n",
       "      <td>Gwalior</td>\n",
       "      <td>900000</td>\n",
       "    </tr>\n",
       "    <tr>\n",
       "      <th>13</th>\n",
       "      <td>Hubli</td>\n",
       "      <td>0</td>\n",
       "    </tr>\n",
       "    <tr>\n",
       "      <th>14</th>\n",
       "      <td>Hyderabad</td>\n",
       "      <td>195362000</td>\n",
       "    </tr>\n",
       "    <tr>\n",
       "      <th>15</th>\n",
       "      <td>India</td>\n",
       "      <td>30000000</td>\n",
       "    </tr>\n",
       "    <tr>\n",
       "      <th>16</th>\n",
       "      <td>Indore</td>\n",
       "      <td>1672000</td>\n",
       "    </tr>\n",
       "    <tr>\n",
       "      <th>17</th>\n",
       "      <td>Jaipur</td>\n",
       "      <td>35560000</td>\n",
       "    </tr>\n",
       "    <tr>\n",
       "      <th>18</th>\n",
       "      <td>Jodhpur</td>\n",
       "      <td>160000</td>\n",
       "    </tr>\n",
       "    <tr>\n",
       "      <th>19</th>\n",
       "      <td>Kanpur</td>\n",
       "      <td>220000</td>\n",
       "    </tr>\n",
       "    <tr>\n",
       "      <th>20</th>\n",
       "      <td>Karur</td>\n",
       "      <td>0</td>\n",
       "    </tr>\n",
       "    <tr>\n",
       "      <th>21</th>\n",
       "      <td>Kerala</td>\n",
       "      <td>27000</td>\n",
       "    </tr>\n",
       "    <tr>\n",
       "      <th>22</th>\n",
       "      <td>Kochi</td>\n",
       "      <td>0</td>\n",
       "    </tr>\n",
       "    <tr>\n",
       "      <th>23</th>\n",
       "      <td>Kolkata</td>\n",
       "      <td>13865000</td>\n",
       "    </tr>\n",
       "    <tr>\n",
       "      <th>24</th>\n",
       "      <td>Kozhikode</td>\n",
       "      <td>0</td>\n",
       "    </tr>\n",
       "    <tr>\n",
       "      <th>25</th>\n",
       "      <td>London</td>\n",
       "      <td>0</td>\n",
       "    </tr>\n",
       "    <tr>\n",
       "      <th>26</th>\n",
       "      <td>Lucknow</td>\n",
       "      <td>1000000</td>\n",
       "    </tr>\n",
       "    <tr>\n",
       "      <th>27</th>\n",
       "      <td>Missourie</td>\n",
       "      <td>350000</td>\n",
       "    </tr>\n",
       "    <tr>\n",
       "      <th>28</th>\n",
       "      <td>Mumbai</td>\n",
       "      <td>2354934500</td>\n",
       "    </tr>\n",
       "    <tr>\n",
       "      <th>29</th>\n",
       "      <td>Nagpur</td>\n",
       "      <td>0</td>\n",
       "    </tr>\n",
       "    <tr>\n",
       "      <th>30</th>\n",
       "      <td>New Delhi</td>\n",
       "      <td>2818247500</td>\n",
       "    </tr>\n",
       "    <tr>\n",
       "      <th>31</th>\n",
       "      <td>New York</td>\n",
       "      <td>2950000</td>\n",
       "    </tr>\n",
       "    <tr>\n",
       "      <th>32</th>\n",
       "      <td>Noida</td>\n",
       "      <td>170638000</td>\n",
       "    </tr>\n",
       "    <tr>\n",
       "      <th>33</th>\n",
       "      <td>Panaji</td>\n",
       "      <td>825000</td>\n",
       "    </tr>\n",
       "    <tr>\n",
       "      <th>34</th>\n",
       "      <td>Pune</td>\n",
       "      <td>366653000</td>\n",
       "    </tr>\n",
       "    <tr>\n",
       "      <th>35</th>\n",
       "      <td>SFO</td>\n",
       "      <td>2700000</td>\n",
       "    </tr>\n",
       "    <tr>\n",
       "      <th>36</th>\n",
       "      <td>Siliguri</td>\n",
       "      <td>0</td>\n",
       "    </tr>\n",
       "    <tr>\n",
       "      <th>37</th>\n",
       "      <td>Singapore</td>\n",
       "      <td>3850000</td>\n",
       "    </tr>\n",
       "    <tr>\n",
       "      <th>38</th>\n",
       "      <td>Surat</td>\n",
       "      <td>0</td>\n",
       "    </tr>\n",
       "    <tr>\n",
       "      <th>39</th>\n",
       "      <td>Trivandrum</td>\n",
       "      <td>100000</td>\n",
       "    </tr>\n",
       "    <tr>\n",
       "      <th>40</th>\n",
       "      <td>US</td>\n",
       "      <td>3000000</td>\n",
       "    </tr>\n",
       "    <tr>\n",
       "      <th>41</th>\n",
       "      <td>USA</td>\n",
       "      <td>16600000</td>\n",
       "    </tr>\n",
       "    <tr>\n",
       "      <th>42</th>\n",
       "      <td>Udaipur</td>\n",
       "      <td>0</td>\n",
       "    </tr>\n",
       "    <tr>\n",
       "      <th>43</th>\n",
       "      <td>Udupi</td>\n",
       "      <td>12000000</td>\n",
       "    </tr>\n",
       "    <tr>\n",
       "      <th>44</th>\n",
       "      <td>Vadodara</td>\n",
       "      <td>6040000</td>\n",
       "    </tr>\n",
       "    <tr>\n",
       "      <th>45</th>\n",
       "      <td>Varanasi</td>\n",
       "      <td>52000</td>\n",
       "    </tr>\n",
       "  </tbody>\n",
       "</table>\n",
       "</div>"
      ],
      "text/plain": [
       "   CityLocation  AmountInUSD\n",
       "0          Agra            0\n",
       "1     Ahmedabad     98186000\n",
       "2     Bangalore   8422974108\n",
       "3       Belgaum       500000\n",
       "4        Bhopal      1900000\n",
       "5        Boston      3000000\n",
       "6    Chandigarh     26100000\n",
       "7       Chennai    411105000\n",
       "8    Coimbatore      1650000\n",
       "9        Dallas      1000000\n",
       "10          Goa      2380000\n",
       "11      Gurgaon   2069021500\n",
       "12      Gwalior       900000\n",
       "13        Hubli            0\n",
       "14    Hyderabad    195362000\n",
       "15        India     30000000\n",
       "16       Indore      1672000\n",
       "17       Jaipur     35560000\n",
       "18      Jodhpur       160000\n",
       "19       Kanpur       220000\n",
       "20        Karur            0\n",
       "21       Kerala        27000\n",
       "22        Kochi            0\n",
       "23      Kolkata     13865000\n",
       "24    Kozhikode            0\n",
       "25       London            0\n",
       "26      Lucknow      1000000\n",
       "27    Missourie       350000\n",
       "28       Mumbai   2354934500\n",
       "29       Nagpur            0\n",
       "30    New Delhi   2818247500\n",
       "31     New York      2950000\n",
       "32        Noida    170638000\n",
       "33       Panaji       825000\n",
       "34         Pune    366653000\n",
       "35          SFO      2700000\n",
       "36     Siliguri            0\n",
       "37    Singapore      3850000\n",
       "38        Surat            0\n",
       "39   Trivandrum       100000\n",
       "40           US      3000000\n",
       "41          USA     16600000\n",
       "42      Udaipur            0\n",
       "43        Udupi     12000000\n",
       "44     Vadodara      6040000\n",
       "45     Varanasi        52000"
      ]
     },
     "execution_count": 44,
     "metadata": {},
     "output_type": "execute_result"
    }
   ],
   "source": [
    "df2=pd.DataFrame(lst_1,columns=['CityLocation','AmountInUSD'])\n",
    "df2"
   ]
  },
  {
   "cell_type": "code",
   "execution_count": 45,
   "id": "cd5a106d",
   "metadata": {},
   "outputs": [],
   "source": [
    "df2=df2.sort_values('AmountInUSD',ascending=False)"
   ]
  },
  {
   "cell_type": "code",
   "execution_count": 46,
   "id": "ee4817d6",
   "metadata": {},
   "outputs": [
    {
     "data": {
      "text/html": [
       "<div>\n",
       "<style scoped>\n",
       "    .dataframe tbody tr th:only-of-type {\n",
       "        vertical-align: middle;\n",
       "    }\n",
       "\n",
       "    .dataframe tbody tr th {\n",
       "        vertical-align: top;\n",
       "    }\n",
       "\n",
       "    .dataframe thead th {\n",
       "        text-align: right;\n",
       "    }\n",
       "</style>\n",
       "<table border=\"1\" class=\"dataframe\">\n",
       "  <thead>\n",
       "    <tr style=\"text-align: right;\">\n",
       "      <th></th>\n",
       "      <th>CityLocation</th>\n",
       "      <th>AmountInUSD</th>\n",
       "    </tr>\n",
       "  </thead>\n",
       "  <tbody>\n",
       "    <tr>\n",
       "      <th>2</th>\n",
       "      <td>Bangalore</td>\n",
       "      <td>8422974108</td>\n",
       "    </tr>\n",
       "    <tr>\n",
       "      <th>30</th>\n",
       "      <td>New Delhi</td>\n",
       "      <td>2818247500</td>\n",
       "    </tr>\n",
       "    <tr>\n",
       "      <th>28</th>\n",
       "      <td>Mumbai</td>\n",
       "      <td>2354934500</td>\n",
       "    </tr>\n",
       "    <tr>\n",
       "      <th>11</th>\n",
       "      <td>Gurgaon</td>\n",
       "      <td>2069021500</td>\n",
       "    </tr>\n",
       "    <tr>\n",
       "      <th>7</th>\n",
       "      <td>Chennai</td>\n",
       "      <td>411105000</td>\n",
       "    </tr>\n",
       "    <tr>\n",
       "      <th>34</th>\n",
       "      <td>Pune</td>\n",
       "      <td>366653000</td>\n",
       "    </tr>\n",
       "    <tr>\n",
       "      <th>14</th>\n",
       "      <td>Hyderabad</td>\n",
       "      <td>195362000</td>\n",
       "    </tr>\n",
       "    <tr>\n",
       "      <th>32</th>\n",
       "      <td>Noida</td>\n",
       "      <td>170638000</td>\n",
       "    </tr>\n",
       "    <tr>\n",
       "      <th>1</th>\n",
       "      <td>Ahmedabad</td>\n",
       "      <td>98186000</td>\n",
       "    </tr>\n",
       "    <tr>\n",
       "      <th>17</th>\n",
       "      <td>Jaipur</td>\n",
       "      <td>35560000</td>\n",
       "    </tr>\n",
       "    <tr>\n",
       "      <th>15</th>\n",
       "      <td>India</td>\n",
       "      <td>30000000</td>\n",
       "    </tr>\n",
       "    <tr>\n",
       "      <th>6</th>\n",
       "      <td>Chandigarh</td>\n",
       "      <td>26100000</td>\n",
       "    </tr>\n",
       "    <tr>\n",
       "      <th>41</th>\n",
       "      <td>USA</td>\n",
       "      <td>16600000</td>\n",
       "    </tr>\n",
       "    <tr>\n",
       "      <th>23</th>\n",
       "      <td>Kolkata</td>\n",
       "      <td>13865000</td>\n",
       "    </tr>\n",
       "    <tr>\n",
       "      <th>43</th>\n",
       "      <td>Udupi</td>\n",
       "      <td>12000000</td>\n",
       "    </tr>\n",
       "    <tr>\n",
       "      <th>44</th>\n",
       "      <td>Vadodara</td>\n",
       "      <td>6040000</td>\n",
       "    </tr>\n",
       "    <tr>\n",
       "      <th>37</th>\n",
       "      <td>Singapore</td>\n",
       "      <td>3850000</td>\n",
       "    </tr>\n",
       "    <tr>\n",
       "      <th>5</th>\n",
       "      <td>Boston</td>\n",
       "      <td>3000000</td>\n",
       "    </tr>\n",
       "    <tr>\n",
       "      <th>40</th>\n",
       "      <td>US</td>\n",
       "      <td>3000000</td>\n",
       "    </tr>\n",
       "    <tr>\n",
       "      <th>31</th>\n",
       "      <td>New York</td>\n",
       "      <td>2950000</td>\n",
       "    </tr>\n",
       "    <tr>\n",
       "      <th>35</th>\n",
       "      <td>SFO</td>\n",
       "      <td>2700000</td>\n",
       "    </tr>\n",
       "    <tr>\n",
       "      <th>10</th>\n",
       "      <td>Goa</td>\n",
       "      <td>2380000</td>\n",
       "    </tr>\n",
       "    <tr>\n",
       "      <th>4</th>\n",
       "      <td>Bhopal</td>\n",
       "      <td>1900000</td>\n",
       "    </tr>\n",
       "    <tr>\n",
       "      <th>16</th>\n",
       "      <td>Indore</td>\n",
       "      <td>1672000</td>\n",
       "    </tr>\n",
       "    <tr>\n",
       "      <th>8</th>\n",
       "      <td>Coimbatore</td>\n",
       "      <td>1650000</td>\n",
       "    </tr>\n",
       "    <tr>\n",
       "      <th>9</th>\n",
       "      <td>Dallas</td>\n",
       "      <td>1000000</td>\n",
       "    </tr>\n",
       "    <tr>\n",
       "      <th>26</th>\n",
       "      <td>Lucknow</td>\n",
       "      <td>1000000</td>\n",
       "    </tr>\n",
       "    <tr>\n",
       "      <th>12</th>\n",
       "      <td>Gwalior</td>\n",
       "      <td>900000</td>\n",
       "    </tr>\n",
       "    <tr>\n",
       "      <th>33</th>\n",
       "      <td>Panaji</td>\n",
       "      <td>825000</td>\n",
       "    </tr>\n",
       "    <tr>\n",
       "      <th>3</th>\n",
       "      <td>Belgaum</td>\n",
       "      <td>500000</td>\n",
       "    </tr>\n",
       "    <tr>\n",
       "      <th>27</th>\n",
       "      <td>Missourie</td>\n",
       "      <td>350000</td>\n",
       "    </tr>\n",
       "    <tr>\n",
       "      <th>19</th>\n",
       "      <td>Kanpur</td>\n",
       "      <td>220000</td>\n",
       "    </tr>\n",
       "    <tr>\n",
       "      <th>18</th>\n",
       "      <td>Jodhpur</td>\n",
       "      <td>160000</td>\n",
       "    </tr>\n",
       "    <tr>\n",
       "      <th>39</th>\n",
       "      <td>Trivandrum</td>\n",
       "      <td>100000</td>\n",
       "    </tr>\n",
       "    <tr>\n",
       "      <th>45</th>\n",
       "      <td>Varanasi</td>\n",
       "      <td>52000</td>\n",
       "    </tr>\n",
       "    <tr>\n",
       "      <th>21</th>\n",
       "      <td>Kerala</td>\n",
       "      <td>27000</td>\n",
       "    </tr>\n",
       "    <tr>\n",
       "      <th>29</th>\n",
       "      <td>Nagpur</td>\n",
       "      <td>0</td>\n",
       "    </tr>\n",
       "    <tr>\n",
       "      <th>36</th>\n",
       "      <td>Siliguri</td>\n",
       "      <td>0</td>\n",
       "    </tr>\n",
       "    <tr>\n",
       "      <th>25</th>\n",
       "      <td>London</td>\n",
       "      <td>0</td>\n",
       "    </tr>\n",
       "    <tr>\n",
       "      <th>38</th>\n",
       "      <td>Surat</td>\n",
       "      <td>0</td>\n",
       "    </tr>\n",
       "    <tr>\n",
       "      <th>24</th>\n",
       "      <td>Kozhikode</td>\n",
       "      <td>0</td>\n",
       "    </tr>\n",
       "    <tr>\n",
       "      <th>22</th>\n",
       "      <td>Kochi</td>\n",
       "      <td>0</td>\n",
       "    </tr>\n",
       "    <tr>\n",
       "      <th>42</th>\n",
       "      <td>Udaipur</td>\n",
       "      <td>0</td>\n",
       "    </tr>\n",
       "    <tr>\n",
       "      <th>20</th>\n",
       "      <td>Karur</td>\n",
       "      <td>0</td>\n",
       "    </tr>\n",
       "    <tr>\n",
       "      <th>13</th>\n",
       "      <td>Hubli</td>\n",
       "      <td>0</td>\n",
       "    </tr>\n",
       "    <tr>\n",
       "      <th>0</th>\n",
       "      <td>Agra</td>\n",
       "      <td>0</td>\n",
       "    </tr>\n",
       "  </tbody>\n",
       "</table>\n",
       "</div>"
      ],
      "text/plain": [
       "   CityLocation  AmountInUSD\n",
       "2     Bangalore   8422974108\n",
       "30    New Delhi   2818247500\n",
       "28       Mumbai   2354934500\n",
       "11      Gurgaon   2069021500\n",
       "7       Chennai    411105000\n",
       "34         Pune    366653000\n",
       "14    Hyderabad    195362000\n",
       "32        Noida    170638000\n",
       "1     Ahmedabad     98186000\n",
       "17       Jaipur     35560000\n",
       "15        India     30000000\n",
       "6    Chandigarh     26100000\n",
       "41          USA     16600000\n",
       "23      Kolkata     13865000\n",
       "43        Udupi     12000000\n",
       "44     Vadodara      6040000\n",
       "37    Singapore      3850000\n",
       "5        Boston      3000000\n",
       "40           US      3000000\n",
       "31     New York      2950000\n",
       "35          SFO      2700000\n",
       "10          Goa      2380000\n",
       "4        Bhopal      1900000\n",
       "16       Indore      1672000\n",
       "8    Coimbatore      1650000\n",
       "9        Dallas      1000000\n",
       "26      Lucknow      1000000\n",
       "12      Gwalior       900000\n",
       "33       Panaji       825000\n",
       "3       Belgaum       500000\n",
       "27    Missourie       350000\n",
       "19       Kanpur       220000\n",
       "18      Jodhpur       160000\n",
       "39   Trivandrum       100000\n",
       "45     Varanasi        52000\n",
       "21       Kerala        27000\n",
       "29       Nagpur            0\n",
       "36     Siliguri            0\n",
       "25       London            0\n",
       "38        Surat            0\n",
       "24    Kozhikode            0\n",
       "22        Kochi            0\n",
       "42      Udaipur            0\n",
       "20        Karur            0\n",
       "13        Hubli            0\n",
       "0          Agra            0"
      ]
     },
     "execution_count": 46,
     "metadata": {},
     "output_type": "execute_result"
    }
   ],
   "source": [
    "df2"
   ]
  },
  {
   "cell_type": "markdown",
   "id": "3b634b39",
   "metadata": {},
   "source": [
    "## FINDING TOP 10 CITIES WITH AMOUNT IN USD"
   ]
  },
  {
   "cell_type": "code",
   "execution_count": 47,
   "id": "bb554ef8",
   "metadata": {
    "scrolled": true
   },
   "outputs": [
    {
     "data": {
      "text/html": [
       "<div>\n",
       "<style scoped>\n",
       "    .dataframe tbody tr th:only-of-type {\n",
       "        vertical-align: middle;\n",
       "    }\n",
       "\n",
       "    .dataframe tbody tr th {\n",
       "        vertical-align: top;\n",
       "    }\n",
       "\n",
       "    .dataframe thead th {\n",
       "        text-align: right;\n",
       "    }\n",
       "</style>\n",
       "<table border=\"1\" class=\"dataframe\">\n",
       "  <thead>\n",
       "    <tr style=\"text-align: right;\">\n",
       "      <th></th>\n",
       "      <th>index</th>\n",
       "      <th>CityLocation</th>\n",
       "      <th>AmountInUSD</th>\n",
       "    </tr>\n",
       "  </thead>\n",
       "  <tbody>\n",
       "    <tr>\n",
       "      <th>0</th>\n",
       "      <td>2</td>\n",
       "      <td>Bangalore</td>\n",
       "      <td>8422974108</td>\n",
       "    </tr>\n",
       "    <tr>\n",
       "      <th>1</th>\n",
       "      <td>30</td>\n",
       "      <td>New Delhi</td>\n",
       "      <td>2818247500</td>\n",
       "    </tr>\n",
       "    <tr>\n",
       "      <th>2</th>\n",
       "      <td>28</td>\n",
       "      <td>Mumbai</td>\n",
       "      <td>2354934500</td>\n",
       "    </tr>\n",
       "    <tr>\n",
       "      <th>3</th>\n",
       "      <td>11</td>\n",
       "      <td>Gurgaon</td>\n",
       "      <td>2069021500</td>\n",
       "    </tr>\n",
       "    <tr>\n",
       "      <th>4</th>\n",
       "      <td>7</td>\n",
       "      <td>Chennai</td>\n",
       "      <td>411105000</td>\n",
       "    </tr>\n",
       "    <tr>\n",
       "      <th>5</th>\n",
       "      <td>34</td>\n",
       "      <td>Pune</td>\n",
       "      <td>366653000</td>\n",
       "    </tr>\n",
       "    <tr>\n",
       "      <th>6</th>\n",
       "      <td>14</td>\n",
       "      <td>Hyderabad</td>\n",
       "      <td>195362000</td>\n",
       "    </tr>\n",
       "    <tr>\n",
       "      <th>7</th>\n",
       "      <td>32</td>\n",
       "      <td>Noida</td>\n",
       "      <td>170638000</td>\n",
       "    </tr>\n",
       "    <tr>\n",
       "      <th>8</th>\n",
       "      <td>1</td>\n",
       "      <td>Ahmedabad</td>\n",
       "      <td>98186000</td>\n",
       "    </tr>\n",
       "    <tr>\n",
       "      <th>9</th>\n",
       "      <td>17</td>\n",
       "      <td>Jaipur</td>\n",
       "      <td>35560000</td>\n",
       "    </tr>\n",
       "  </tbody>\n",
       "</table>\n",
       "</div>"
      ],
      "text/plain": [
       "   index CityLocation  AmountInUSD\n",
       "0      2    Bangalore   8422974108\n",
       "1     30    New Delhi   2818247500\n",
       "2     28       Mumbai   2354934500\n",
       "3     11      Gurgaon   2069021500\n",
       "4      7      Chennai    411105000\n",
       "5     34         Pune    366653000\n",
       "6     14    Hyderabad    195362000\n",
       "7     32        Noida    170638000\n",
       "8      1    Ahmedabad     98186000\n",
       "9     17       Jaipur     35560000"
      ]
     },
     "execution_count": 47,
     "metadata": {},
     "output_type": "execute_result"
    }
   ],
   "source": [
    "df2=df2.reset_index()\n",
    "df3=df2.head(10)\n",
    "df3"
   ]
  },
  {
   "cell_type": "code",
   "execution_count": 48,
   "id": "1157986f",
   "metadata": {},
   "outputs": [
    {
     "data": {
      "text/plain": [
       "array([8422974108, 2818247500, 2354934500, 2069021500,  411105000,\n",
       "        366653000,  195362000,  170638000,   98186000,   35560000],\n",
       "      dtype=int64)"
      ]
     },
     "execution_count": 48,
     "metadata": {},
     "output_type": "execute_result"
    }
   ],
   "source": [
    "amt=df2[\"AmountInUSD\"].head(10)\n",
    "amt=amt.values\n",
    "amt"
   ]
  },
  {
   "cell_type": "code",
   "execution_count": 49,
   "id": "5819e133",
   "metadata": {},
   "outputs": [
    {
     "data": {
      "text/plain": [
       "array(['Bangalore', 'New Delhi', 'Mumbai', 'Gurgaon', 'Chennai', 'Pune',\n",
       "       'Hyderabad', 'Noida', 'Ahmedabad', 'Jaipur'], dtype=object)"
      ]
     },
     "execution_count": 49,
     "metadata": {},
     "output_type": "execute_result"
    }
   ],
   "source": [
    "city=df2[\"CityLocation\"].head(10)\n",
    "city=city.values\n",
    "city"
   ]
  },
  {
   "cell_type": "code",
   "execution_count": 50,
   "id": "6a28edc2",
   "metadata": {},
   "outputs": [],
   "source": [
    "x=[]\n",
    "y=[]\n",
    "for i in range(10):\n",
    "    x.append(amt[i])\n",
    "    y.append(city[i])"
   ]
  },
  {
   "cell_type": "markdown",
   "id": "582f6ef0",
   "metadata": {},
   "source": [
    "## ANALYSIS OF TOP 10 CITIES AND AMOUNT FUNDED USING PIE CHART"
   ]
  },
  {
   "cell_type": "code",
   "execution_count": 51,
   "id": "e4809b02",
   "metadata": {},
   "outputs": [
    {
     "data": {
      "image/png": "[encoded data removed]",
      "text/plain": [
       "<Figure size 432x288 with 1 Axes>"
      ]
     },
     "metadata": {},
     "output_type": "display_data"
    }
   ],
   "source": [
    "colors=[\"pink\",\"yellow\",\"pink\",\"red\",\"purple\",\"orange\",\"red\",\"orange\",\"brown\",\"yellow\"]\n",
    "explode=[0,0,0,0,0.2,0.7,0.9,0.8,0.9,0]\n",
    "plt.pie(x,colors=colors,labels=y,autopct=\"%.1f\",startangle=360,explode=explode,counterclock=False)\n",
    "plt.axis(\"equal\")\n",
    "plt.show()"
   ]
  },
  {
   "cell_type": "markdown",
   "id": "4715fd15",
   "metadata": {},
   "source": [
    "## FINDING AMOUNT OF TOP 10 CITIES IN TERMS OF PERCENTAGE"
   ]
  },
  {
   "cell_type": "code",
   "execution_count": 52,
   "id": "6616de67",
   "metadata": {},
   "outputs": [],
   "source": [
    "perc=df3[\"AmountInUSD\"]/df3[\"AmountInUSD\"].sum()*100"
   ]
  },
  {
   "cell_type": "code",
   "execution_count": 53,
   "id": "f14191ac",
   "metadata": {},
   "outputs": [
    {
     "data": {
      "text/plain": [
       "0    49.714528\n",
       "1    16.634011\n",
       "2    13.899420\n",
       "3    12.211889\n",
       "4     2.426446\n",
       "5     2.164079\n",
       "6     1.153076\n",
       "7     1.007149\n",
       "8     0.579519\n",
       "9     0.209884\n",
       "Name: AmountInUSD, dtype: float64"
      ]
     },
     "execution_count": 53,
     "metadata": {},
     "output_type": "execute_result"
    }
   ],
   "source": [
    "perc"
   ]
  },
  {
   "cell_type": "code",
   "execution_count": 54,
   "id": "801ffd72",
   "metadata": {},
   "outputs": [
    {
     "data": {
      "text/plain": [
       "array(['Bangalore', 'New Delhi', 'Mumbai', 'Gurgaon', 'Chennai', 'Pune',\n",
       "       'Hyderabad', 'Noida', 'Ahmedabad', 'Jaipur'], dtype=object)"
      ]
     },
     "execution_count": 54,
     "metadata": {},
     "output_type": "execute_result"
    }
   ],
   "source": [
    "city"
   ]
  },
  {
   "cell_type": "code",
   "execution_count": 55,
   "id": "8174c201",
   "metadata": {},
   "outputs": [],
   "source": [
    "lst_final=list(zip(city,perc))"
   ]
  },
  {
   "cell_type": "code",
   "execution_count": 56,
   "id": "94435332",
   "metadata": {},
   "outputs": [],
   "source": [
    "df4=pd.DataFrame(lst_final,columns=['CityLocation','Percentage'])"
   ]
  },
  {
   "cell_type": "code",
   "execution_count": 57,
   "id": "b425b36e",
   "metadata": {},
   "outputs": [
    {
     "data": {
      "text/html": [
       "<div>\n",
       "<style scoped>\n",
       "    .dataframe tbody tr th:only-of-type {\n",
       "        vertical-align: middle;\n",
       "    }\n",
       "\n",
       "    .dataframe tbody tr th {\n",
       "        vertical-align: top;\n",
       "    }\n",
       "\n",
       "    .dataframe thead th {\n",
       "        text-align: right;\n",
       "    }\n",
       "</style>\n",
       "<table border=\"1\" class=\"dataframe\">\n",
       "  <thead>\n",
       "    <tr style=\"text-align: right;\">\n",
       "      <th></th>\n",
       "      <th>CityLocation</th>\n",
       "      <th>Percentage</th>\n",
       "    </tr>\n",
       "  </thead>\n",
       "  <tbody>\n",
       "    <tr>\n",
       "      <th>0</th>\n",
       "      <td>Bangalore</td>\n",
       "      <td>49.714528</td>\n",
       "    </tr>\n",
       "    <tr>\n",
       "      <th>1</th>\n",
       "      <td>New Delhi</td>\n",
       "      <td>16.634011</td>\n",
       "    </tr>\n",
       "    <tr>\n",
       "      <th>2</th>\n",
       "      <td>Mumbai</td>\n",
       "      <td>13.899420</td>\n",
       "    </tr>\n",
       "    <tr>\n",
       "      <th>3</th>\n",
       "      <td>Gurgaon</td>\n",
       "      <td>12.211889</td>\n",
       "    </tr>\n",
       "    <tr>\n",
       "      <th>4</th>\n",
       "      <td>Chennai</td>\n",
       "      <td>2.426446</td>\n",
       "    </tr>\n",
       "    <tr>\n",
       "      <th>5</th>\n",
       "      <td>Pune</td>\n",
       "      <td>2.164079</td>\n",
       "    </tr>\n",
       "    <tr>\n",
       "      <th>6</th>\n",
       "      <td>Hyderabad</td>\n",
       "      <td>1.153076</td>\n",
       "    </tr>\n",
       "    <tr>\n",
       "      <th>7</th>\n",
       "      <td>Noida</td>\n",
       "      <td>1.007149</td>\n",
       "    </tr>\n",
       "    <tr>\n",
       "      <th>8</th>\n",
       "      <td>Ahmedabad</td>\n",
       "      <td>0.579519</td>\n",
       "    </tr>\n",
       "    <tr>\n",
       "      <th>9</th>\n",
       "      <td>Jaipur</td>\n",
       "      <td>0.209884</td>\n",
       "    </tr>\n",
       "  </tbody>\n",
       "</table>\n",
       "</div>"
      ],
      "text/plain": [
       "  CityLocation  Percentage\n",
       "0    Bangalore   49.714528\n",
       "1    New Delhi   16.634011\n",
       "2       Mumbai   13.899420\n",
       "3      Gurgaon   12.211889\n",
       "4      Chennai    2.426446\n",
       "5         Pune    2.164079\n",
       "6    Hyderabad    1.153076\n",
       "7        Noida    1.007149\n",
       "8    Ahmedabad    0.579519\n",
       "9       Jaipur    0.209884"
      ]
     },
     "execution_count": 57,
     "metadata": {},
     "output_type": "execute_result"
    }
   ],
   "source": [
    "df4"
   ]
  },
  {
   "cell_type": "code",
   "execution_count": 58,
   "id": "7128d1bf",
   "metadata": {},
   "outputs": [
    {
     "data": {
      "text/plain": [
       "Date                  0\n",
       "StartupName           0\n",
       "IndustryVertical      0\n",
       "SubVertical         762\n",
       "CityLocation          0\n",
       "InvestorsName         8\n",
       "InvestmentType        1\n",
       "AmountInUSD           0\n",
       "Year                  0\n",
       "dtype: int64"
      ]
     },
     "execution_count": 58,
     "metadata": {},
     "output_type": "execute_result"
    }
   ],
   "source": [
    "df.isnull().sum()"
   ]
  },
  {
   "cell_type": "code",
   "execution_count": 59,
   "id": "ea16b3ad",
   "metadata": {},
   "outputs": [
    {
     "data": {
      "text/plain": [
       "array(['Private Equity', 'Seed Funding', 'Debt Funding', nan],\n",
       "      dtype=object)"
      ]
     },
     "execution_count": 59,
     "metadata": {},
     "output_type": "execute_result"
    }
   ],
   "source": [
    "df[\"InvestmentType\"].unique()"
   ]
  },
  {
   "cell_type": "code",
   "execution_count": 60,
   "id": "bc4d9c18",
   "metadata": {},
   "outputs": [
    {
     "data": {
      "text/plain": [
       "Seed Funding      1211\n",
       "Private Equity     980\n",
       "Debt Funding         1\n",
       "Name: InvestmentType, dtype: int64"
      ]
     },
     "execution_count": 60,
     "metadata": {},
     "output_type": "execute_result"
    }
   ],
   "source": [
    "df[\"InvestmentType\"].value_counts()"
   ]
  },
  {
   "cell_type": "code",
   "execution_count": 61,
   "id": "cb16b9ab",
   "metadata": {},
   "outputs": [],
   "source": [
    "df[\"InvestmentType\"]=df[\"InvestmentType\"].fillna(\"Seed Funding\")"
   ]
  },
  {
   "cell_type": "code",
   "execution_count": 62,
   "id": "b8125b5b",
   "metadata": {},
   "outputs": [
    {
     "data": {
      "text/plain": [
       "array(['Private Equity', 'Seed Funding', 'Debt Funding'], dtype=object)"
      ]
     },
     "execution_count": 62,
     "metadata": {},
     "output_type": "execute_result"
    }
   ],
   "source": [
    "df[\"InvestmentType\"].unique()"
   ]
  },
  {
   "cell_type": "code",
   "execution_count": 63,
   "id": "dcad07b1",
   "metadata": {},
   "outputs": [
    {
     "data": {
      "text/plain": [
       "Seed Funding      1212\n",
       "Private Equity     980\n",
       "Debt Funding         1\n",
       "Name: InvestmentType, dtype: int64"
      ]
     },
     "execution_count": 63,
     "metadata": {},
     "output_type": "execute_result"
    }
   ],
   "source": [
    "df[\"InvestmentType\"].value_counts()"
   ]
  },
  {
   "cell_type": "code",
   "execution_count": 64,
   "id": "e3c3eaee",
   "metadata": {},
   "outputs": [],
   "source": [
    "perc_1=df[\"InvestmentType\"].value_counts()/df[\"InvestmentType\"].value_counts().sum()*100"
   ]
  },
  {
   "cell_type": "code",
   "execution_count": 65,
   "id": "72fc4da7",
   "metadata": {},
   "outputs": [
    {
     "data": {
      "text/plain": [
       "Seed Funding      55.266758\n",
       "Private Equity    44.687642\n",
       "Debt Funding       0.045600\n",
       "Name: InvestmentType, dtype: float64"
      ]
     },
     "execution_count": 65,
     "metadata": {},
     "output_type": "execute_result"
    }
   ],
   "source": [
    "perc_1"
   ]
  },
  {
   "cell_type": "code",
   "execution_count": 66,
   "id": "4d47e345",
   "metadata": {},
   "outputs": [
    {
     "data": {
      "image/png": "[encoded data removed]",
      "text/plain": [
       "<Figure size 432x288 with 1 Axes>"
      ]
     },
     "metadata": {},
     "output_type": "display_data"
    }
   ],
   "source": [
    "colors=[\"pink\",\"yellow\",\"red\"]\n",
    "explode=[0,0,0]\n",
    "plt.pie(perc_1,colors=colors,labels=['Seed Funding','Private Equity','Debt Funding'],autopct=\"%.2f\",startangle=360,explode=explode,counterclock=False)\n",
    "plt.axis(\"equal\")\n",
    "plt.show()"
   ]
  },
  {
   "cell_type": "code",
   "execution_count": 67,
   "id": "83308936",
   "metadata": {},
   "outputs": [
    {
     "data": {
      "text/plain": [
       "Date                  0\n",
       "StartupName           0\n",
       "IndustryVertical      0\n",
       "SubVertical         762\n",
       "CityLocation          0\n",
       "InvestorsName         8\n",
       "InvestmentType        0\n",
       "AmountInUSD           0\n",
       "Year                  0\n",
       "dtype: int64"
      ]
     },
     "execution_count": 67,
     "metadata": {},
     "output_type": "execute_result"
    }
   ],
   "source": [
    "df.isnull().sum()"
   ]
  },
  {
   "cell_type": "code",
   "execution_count": 68,
   "id": "33c442fd",
   "metadata": {},
   "outputs": [
    {
     "data": {
      "text/plain": [
       "array(['Technology', 'Consumer Internet', 'eCommerce', 'Logistics',\n",
       "       'Others', 'Healthcare', 'Food & Beverage', 'ECommerce', 'Finance',\n",
       "       'Education', 'Food & Beverages', 'ecommerce', 'healthcare',\n",
       "       'Real Estate', 'FMCG', 'Reality', 'Auto', 'Ecommerce', 'BFSI',\n",
       "       'Consumer Interne', 'Online Education Information platform',\n",
       "       'Brand Licensing Startup',\n",
       "       'Gourmet Food Discovery & Delivery platform',\n",
       "       'Transportation & Logistics Platform',\n",
       "       'Enterprise Marketing Automation platform',\n",
       "       'Health, Wellness & Beauty Services App', 'Digital Healthcare',\n",
       "       'Last Minute Hotel Booking App', 'Womens Fashion Wear Portal',\n",
       "       'Product Learning platform',\n",
       "       'Online Food ordering & Delivery platform',\n",
       "       'App based Bus Pooling Services', 'Social Learning Platform',\n",
       "       'Social Fitness platform', 'On Demand Mobile app developer',\n",
       "       'Car Maintenance & Management mobile app',\n",
       "       'Online Wedding Marketplace', 'Splitting Bills Mobile App',\n",
       "       'IOT Energy Management Analytics platform',\n",
       "       'Custom Made furniture e-tailer', 'QSR Chain',\n",
       "       'eLearning platform', 'Smart Safety Wearable Devices',\n",
       "       'Cab Sharing service Mobile app',\n",
       "       'Cloud Enterprise Mobility Platform',\n",
       "       'Online Shopping Assistant Mobile app',\n",
       "       'Home Cooked Food Order & Delivery platform',\n",
       "       'Online School for Analytics learning',\n",
       "       'Chat based personal Assistant App',\n",
       "       'Picture creation & Social mobile app',\n",
       "       'Nonbanking finance company', 'eCommerce returns etailer',\n",
       "       'Online Freight Services Aggregator',\n",
       "       'Online Branded Furniture etailer', 'Digital Analytics Platform',\n",
       "       'Internet Network Infrastructure Services',\n",
       "       'Supply Chain & Logistics Solutions', 'Holiday Resort Chain',\n",
       "       'Mobile Point of Sale solutions',\n",
       "       'Peer-to-Peer Money Transfer & Recharge App',\n",
       "       'Test Automation SAAS platform', 'Citizens Engagement Platform',\n",
       "       'Indoor Navigation & Analytics Solutions',\n",
       "       'Hyperlocal On-Demand Household Services platform',\n",
       "       'Online RTI application services',\n",
       "       'ECommerce Website Creation SAAS platform',\n",
       "       'Wedding Venues & Vendors Marketplace',\n",
       "       'Interface development platform for Government officials',\n",
       "       'Modular Furnishings Marketplace',\n",
       "       'Private Jet Bookings Marketplace',\n",
       "       'Cab search Comparison & Booking platform',\n",
       "       'Performance Optimization Platform for athletes',\n",
       "       'Event Venue Booking Platform', 'Digital Media Platform',\n",
       "       'visual search and discovery platform',\n",
       "       'Home services marketplace',\n",
       "       'End to End reverse logistics Solution platform',\n",
       "       'Virtual Health consultation app', 'Online Renting platform',\n",
       "       'Logistics Services Provider',\n",
       "       'Data Science & UX design Learning platform',\n",
       "       'Online marketplace for Chef Meals', 'Electric Bike Manufacturers',\n",
       "       'ECommerce platform solutions', 'Online Media Publication',\n",
       "       'International Hiring Platform',\n",
       "       'Logistics Service Provider Marketplace',\n",
       "       'Hyperlocal� Grocery Delivery Service',\n",
       "       'Sports Education Platform',\n",
       "       'Bike, Appliances Renting marketplace',\n",
       "       'Online Marketplace for Industrial Goods',\n",
       "       'Reward points mobile app', 'Mobile accessories online store',\n",
       "       'Content Discovery & reward points platform',\n",
       "       'Artificial Intelligence platform',\n",
       "       'Medical Consultation & Doctor appointment booking platform',\n",
       "       'Mobile Fitness App',\n",
       "       'Digital Coupons, Deal & Cashback aggregator app',\n",
       "       'Mobile Game development & Design platform',\n",
       "       'B2B eCommerce Marketplace',\n",
       "       'Furniture and appliances rental platform',\n",
       "       'B2B Merchandize platform', 'Real Estate focused Tech platform',\n",
       "       'Photographer Online search & booking platform',\n",
       "       'Grocery Delivery platform',\n",
       "       'Mobile Car Servicing appointment app', 'New Curation Mobile App',\n",
       "       'Mobile Wallet', 'Online Food Ordering & Delivery platform',\n",
       "       'Bus Aggregation and rental mobile app',\n",
       "       'hyperlocal online Services platform',\n",
       "       'WiFi � first Cloud communication platform',\n",
       "       'Alternate Mobile Monetization platform',\n",
       "       'Online Food Ordering Marketplace',\n",
       "       'Quick Service Restaurant & Online Delivery',\n",
       "       'Online Loans Marketplace', 'Budget Hotels Aggregator',\n",
       "       'Efficient Energy Management platform',\n",
       "       'Digital Intelligent learning platform',\n",
       "       'Voice Call incentivization mobile app',\n",
       "       'Online Counselling and psychological support platform',\n",
       "       'Domestic Help Aggregation platform',\n",
       "       'Home Stay & room rentals platform', 'Selfie Mobile App',\n",
       "       'Online Reputation Management Platform', 'Online Grocery platform',\n",
       "       'Online content platform for women',\n",
       "       'Online Vehicle Spare Parts etailer', 'Event Ticketing platform',\n",
       "       'affordable Personal Healthcare Products',\n",
       "       'Premium dining Lounges & restaurants',\n",
       "       'Mobile Growth HackingPlatform', 'Skill Training Startup',\n",
       "       'Beauty and Wellness Marketplace', 'Marketplace App for Bangkok',\n",
       "       'On-demand Maids Service Provider',\n",
       "       'eCommerce Product Search Engine', 'Ready to cook packaged Foods',\n",
       "       'Product Customization Platform',\n",
       "       'Branded Food products online sales',\n",
       "       'Talent platform for Fashion professionals',\n",
       "       'Auto Insurance Online platform',\n",
       "       'Hyperlocal Logistics Service Provider',\n",
       "       'Cricket Management Mobile Game',\n",
       "       'On Demand Laundry Service platform',\n",
       "       'Ecommerce Discount & Cashback coupons platform',\n",
       "       'Virtual Reality Headset creator',\n",
       "       'Home Improvement Service platform',\n",
       "       'mobile-only tasks marketplace',\n",
       "       'Women Ethnic Wear� Online Marketplace',\n",
       "       'Numerical Computing & Data Science Platform',\n",
       "       'Designer fashion Jewellery Marketplace',\n",
       "       'Online Products Discovery Platform',\n",
       "       'Kids Tool kit for Innovation platform',\n",
       "       'Mobile Learning Solutions', 'Car Aggregator & Retail Mobile App',\n",
       "       'conversational commerce mobile app', 'Viral Content web Platform',\n",
       "       'Express local delivery platform',\n",
       "       'On-Demand Local Logistics provider',\n",
       "       'Curated Freelancer Marketplace', 'Online Taxi Rental Platform',\n",
       "       'Mobile Services Marketplace', 'Smartwatch Maker',\n",
       "       'Online Gourmet Food Marketplace', 'Online Jewellery etailer',\n",
       "       'Sales & Productivity Software',\n",
       "       'ecommerce related software product platform',\n",
       "       'Health-Tech platform', 'Nightlife Discovery Mobile App',\n",
       "       'Online Real Estate Marketplace',\n",
       "       'Home Healthcare Services platform,',\n",
       "       'Indian Ethnic Crafts Etailer',\n",
       "       'Social platform for traders and investors',\n",
       "       'Online Furniture, Home Appliances Rental Platform',\n",
       "       'Healthcare Services Discovery platform',\n",
       "       'Health and Beauty Services Marketplace',\n",
       "       'Automotive Services platform',\n",
       "       'Online and TV Shopping Marketplace',\n",
       "       'Big Data Analytics Platform',\n",
       "       'Mobile App based Loan disbursement platform',\n",
       "       'On Demand Laundry Services App', 'Education Content Provider',\n",
       "       'Content Management Software Solutions',\n",
       "       'Fitness Tracking Management Solutions',\n",
       "       'Hyper-local Grocery Delivery platform',\n",
       "       'Hyperlocal healthcare product Delivery Service provider',\n",
       "       'Online Lending Marketplace', 'On Demand Beauty Services Platform',\n",
       "       'Self Driven Rental Car Platform', 'Education Content etailer',\n",
       "       'Clud based Learning platform',\n",
       "       'Talent Exchange & Talent Services Marketplace',\n",
       "       'Two-Wheeler Taxi Service', 'character merchandize sales platform',\n",
       "       'Mobile Application Developer',\n",
       "       'Ecommerce Delivery locker services',\n",
       "       'extra curricular activities marketplace app',\n",
       "       'Hyperlocal Online Home services provider',\n",
       "       'Easy Business Loans platform',\n",
       "       'Performance based Wholesale Marketplace',\n",
       "       'Professional Services Marketplace', 'Movie-on-demand platform',\n",
       "       'bus ticketing and fleet management platform',\n",
       "       'Online Income Tax Filing platform',\n",
       "       'Product discovery & recommendation platform',\n",
       "       'Mobile Payments App', 'Beauty & Wellness Products e-tailer',\n",
       "       'Fashion jewelry and accessories e-tailer',\n",
       "       'Online Consumer Lending platform',\n",
       "       'Premium Apparel shopping portal',\n",
       "       'Exclusive Platform for Doctors & Healthcare professionals',\n",
       "       'Job Board', 'Sports Management & Physical Education Business',\n",
       "       'multi-sport program for preschoolers',\n",
       "       'QSR & Online delivery portal', 'Online Homeopathy Clinic',\n",
       "       'E-Learning Service Provider', 'Organic Food etailer',\n",
       "       'Delivery & Logistics Service provider',\n",
       "       'Product Discovery & comparison App',\n",
       "       'Online Apparels Fashion brand',\n",
       "       'Home Cooked Food marketplace & Delivery',\n",
       "       'Gesture based Mobile Development',\n",
       "       'Hotel Mobile CRM Software platform',\n",
       "       'Rental Accommodation Search platform', 'Logistics Tech Platform',\n",
       "       'Developer Portfolio Showcase platform',\n",
       "       'Doctors Network Mobile App', 'End-to-End Lending platform',\n",
       "       'on-demand healthcare marketplace',\n",
       "       '360-degree view creating platform',\n",
       "       'Advertising & Marketing Community Networking platform',\n",
       "       'Food Ordering & Delivery App', 'Ride Sharing platform',\n",
       "       'Online P2P lending marketplace',\n",
       "       'B2B marketplace for industrial goods',\n",
       "       'Cloud Based Collaboration platform',\n",
       "       'global community for travellers', 'Prepaid Bill manager App',\n",
       "       'Mobile Only Shopping Assistant', 'Mobile Messaging Assistant App',\n",
       "       'Personalized Wish List creator app', 'Music Streaming mobile app',\n",
       "       'Raw Meat & Ready to eat food etailer', 'Gym Discovery platform',\n",
       "       'Online Purchase rewards app', 'Home rental platform',\n",
       "       'Crowdsourced Delivery platform', 'Real Estate Insights platform',\n",
       "       'Structural & Civil Engg Service Automation',\n",
       "       'Startup Funding Marketplace', 'Payments Solution platform',\n",
       "       'Travel Destination Discovery platform',\n",
       "       'Order Fulfillment SAAS platform', 'Last Mile Delivery Service',\n",
       "       'Healthcare IT Solutions & services', 'Gourmet Meals Delivery',\n",
       "       'Healthy Meals Food delivery platform', 'Real Estate Mobile CRM',\n",
       "       'Micro-Brewery', 'Home Made Food Marketplace',\n",
       "       'residential rental management platform',\n",
       "       'Personalized Stock Intelligence Platform',\n",
       "       'Personal Diagnostic Mobile App',\n",
       "       'Online food ordering & Delivery service',\n",
       "       'Hotel Aggregator & booking platform', 'Online Logistics Platform',\n",
       "       'Online Student & Campus Social Networking platform',\n",
       "       'Professionals & Project Search Marketplace', 'Online Pharmacy',\n",
       "       'Online Payment Gateway', 'Psychometric Test Online Software',\n",
       "       'Location based Nightlife recommendation� Platform',\n",
       "       'Professional Health Services Platform',\n",
       "       'Hyperlocal Logistics Service', 'Online user engagement platform',\n",
       "       'Asset Financing platform',\n",
       "       'Virtual Reality activity based learning platform',\n",
       "       'Online Grocery Store', 'Investment management platform',\n",
       "       'Industrial Toons Marketplace', 'Public Commute helper App',\n",
       "       'Artificial Intelligence Ecommerce Chatbot',\n",
       "       'Truck Aggregator & Logistics service', 'Ridesharing Mobile app',\n",
       "       'Food Discovery & Delivery Mobile app',\n",
       "       'Competitive exam learning platform',\n",
       "       'Document Digitization platform',\n",
       "       'proximity marketing & Mobile Advertising platform',\n",
       "       'Autorickshaw Aggregator & Booking platform',\n",
       "       'FinTech Startup Incubation platform', 'Payment Services platform',\n",
       "       'Personalized Styling platform', 'Luxury goods� Shopping Platform',\n",
       "       'Food Delivery Platform', 'Online Lingerie Marketplace',\n",
       "       'Cloud software solutions', 'Job Search Platform',\n",
       "       'Doctor consultancy Mobile App', 'Small Business Financing (NBFC)',\n",
       "       'Beauty & Wellness Services Marketplace',\n",
       "       'Online Movie Review Platform',\n",
       "       'ECommerce Brands� Full Service Agency',\n",
       "       'Cloud-based Hotel Booking Platform',\n",
       "       'Community Driven News/Views Platform',\n",
       "       'Study Material Marketplace',\n",
       "       'Restaurant Ratings & Reviews platform',\n",
       "       'Dairy Based Product Manufacturer',\n",
       "       'Government Test Preparation platform',\n",
       "       'Smart Report Cards for Schools', 'Teacher empowerment platform',\n",
       "       'Multilingual Test Preparation Platform',\n",
       "       'Industrial Tools Marketplace',\n",
       "       'Non Profit Organization to alleviate poverty',\n",
       "       'Gym & Fitness Studios Subscription platform',\n",
       "       'pre-used luxury item Marketplace',\n",
       "       'pre-used apparel shopping mobile app',\n",
       "       'Home Design & D�cor platform', 'Used Vehicles Marketplace',\n",
       "       'Online Bus & Cab ticketing platform',\n",
       "       'Mobile App testing platform', 'Hyperlocal Delivery Services',\n",
       "       'Early Cancer Detection Solutions', 'Cab rental Mobile app',\n",
       "       'Online Insurance Distribution Platform',\n",
       "       'Mobile Marketing Automation Platform',\n",
       "       'Prepaid Mobile Bill Manager App', 'Chain of Tea Caf�s',\n",
       "       'Branded Budget Hotel Marketplace',\n",
       "       'Home Fitting & Fixtures Marketplace',\n",
       "       'Food Subscription platform', 'Wedding Planning Platform',\n",
       "       'B2B Mobile Auction Marketplace',\n",
       "       'ECommerce Data Analytics Platform',\n",
       "       'Designer Merchandize Marketplace',\n",
       "       'Private label Fashion eTailer', 'Online Food ordering & delivery',\n",
       "       'Real Estate Broker Platform App',\n",
       "       'Online Health & Wellness platform', 'Internet of Things platform',\n",
       "       'Diagnostic Labs aggregator platform',\n",
       "       'Hyperlocal Delivery Platform', 'Home Medical Care Services',\n",
       "       'Real-Time stock data platform',\n",
       "       'Food discovery & table booking app',\n",
       "       'coupons and cashback aggregator app',\n",
       "       'Financial Products lead generation platform',\n",
       "       'Sustainable Agri-inputs Firm', 'Financial Services Portal',\n",
       "       'Pre-owned games Marketplace',\n",
       "       'Content-based Subscription eCommerce platform',\n",
       "       'virtual reality, 3d simulation and stereoscopic products',\n",
       "       'Online Interior Designing platform',\n",
       "       'End-to-end Logistics platform', 'Private Label Apparel sales',\n",
       "       'Healthcare Consulting platform', 'Stock Market Portal',\n",
       "       'Cross-device retargeting platform',\n",
       "       'Digital & Physical Publishing platform',\n",
       "       'Data Driven Publishing platform',\n",
       "       'Employee OnBoarding & Orientation platform',\n",
       "       'Solar Power Solutions company', 'Online Meat Ordering platform',\n",
       "       'online meal-booking platform for train travelers',\n",
       "       'hyperlocal delivery platform', 'Cab Booking app platform',\n",
       "       'E-Commerce & M-Commerce platform', 'Mobile Advertising platform',\n",
       "       'Hyperlocal Grocery Delivery',\n",
       "       'Ecommerce Product recommendation platform',\n",
       "       'Activity Based Social Network', 'Fashion Discovery platform',\n",
       "       'Consumer lending marketplace', 'Big Data Management Platform',\n",
       "       'Budget Accommodation Platform', 'Local Mobile OS',\n",
       "       'Digital Signal processing platform', 'Ecommerce Marketplace',\n",
       "       'Restaurant Discount app', 'Tech-enabled learning',\n",
       "       'ECommerce Logistics provider',\n",
       "       'on-demand home beauty and wellness portal',\n",
       "       'Self Driven Car rental', 'Budget Hotel accommodation brand',\n",
       "       'Energy & Environment Online Marketplace',\n",
       "       'User Engagment & Analytics platform',\n",
       "       'On-Demand Delivery Logistics',\n",
       "       'fund raising platform for startups', 'Online budget hotel chain',\n",
       "       'Hyperlocal Handyman services', 'hotel booking app',\n",
       "       'Rental Accomodation finder', 'Tech Platform for property brokers',\n",
       "       'Luxury Apparel rental', 'App security� testing platform',\n",
       "       'Doctor Appointment booking app', 'anonymous bulletin board app',\n",
       "       'Travel community platform', 'Crowd funding platform',\n",
       "       'Mobile based PoS solution', 'Car & Bike ecommerce platform',\n",
       "       'Fast food Chain Franchisee', 'Loyalty Programs & Reward Points',\n",
       "       'Energy saving solutions provider', 'Self-Storage Spaces',\n",
       "       'Grocery retail Mobile app', 'Taxi Rental platform',\n",
       "       'Machine Learning Platform', 'mobile social network',\n",
       "       'Hyper-Local Ecommerce', 'Online printing marketplace',\n",
       "       'mobile payment software platform',\n",
       "       'Automated Storage & Warehousing Solution',\n",
       "       'Home Design & D�cor solutions', 'Quick Service Restaurant Chain',\n",
       "       'Subscription based Online Grocery platform',\n",
       "       'engineering services company', 'Business and IT consulting',\n",
       "       'Credit Card Fraud protection solutions',\n",
       "       'Online & mobile Grocery store', 'Career Community for Women',\n",
       "       'Mutual Fund Investing platform',\n",
       "       'Ecommerce Marketing Software Platform',\n",
       "       'Financial Inclusion platform',\n",
       "       'Digital Marketing automation solution',\n",
       "       'Mobile Commerce for Farmers', 'Picture based Social App',\n",
       "       'Logistics service platform', 'On-Demand Beauty Services',\n",
       "       'Exam Preparation Platform', 'Startup Focused Online Publisher',\n",
       "       'Waste Management Solutions', 'App based Fitness coaching',\n",
       "       'On demand cleaning & fixing services',\n",
       "       'Beauty & Lifestyle platform', 'on-demand delivery service',\n",
       "       'Data Analytics Platform', 'Deep Learning Cloud Algorithms',\n",
       "       'Location based engagement & rewards platform',\n",
       "       'Online Identity Verification Services platform',\n",
       "       'Corporate Wellness App', 'Fashion Search & Review Platform',\n",
       "       'Hyperlocal Maintenance, Repair & Cleaning services',\n",
       "       'pre-owned Luxury online apparel seller',\n",
       "       'Online Furniture Marketplace',\n",
       "       'Online Diagnostic Tests Marketplace',\n",
       "       'Online marketplace for Photographers', 'Visual Blogging platform',\n",
       "       'Food Customer analytics platform',\n",
       "       'Professional Service Appointment booking service',\n",
       "       'Scientific Horoscope Online Assistance platform',\n",
       "       'Tech enabled AC bus service',\n",
       "       'On-Demand App based Professional service provider',\n",
       "       'Restaurant Reservation Platform', 'Cross-channel CRM platform',\n",
       "       'Professional Custom creators Marketplace',\n",
       "       'on-Demand Washing & Dry-Cleaning', 'On-Demand Beauty Service',\n",
       "       'solar products and services marketplace',\n",
       "       'Online Food Community Platform',\n",
       "       'Private Cloud Networks SAAS platform', 'Education Marketplace',\n",
       "       'Cloud Based Hotel Sales Platform',\n",
       "       'online recipe sharing platform',\n",
       "       'Beauty & Lifestyle Mobile Marketplace', 'QSR Restaurant Chain',\n",
       "       'Digital Media publishing platform',\n",
       "       'Online Coffee Delivery platform',\n",
       "       'Language Localization Cloud platform',\n",
       "       'Big Data & predictive Analysis Platform',\n",
       "       'Business IT Intelligence Services', 'CRM / Analytics platform',\n",
       "       'Hyperlocal Electronics repair Service', 'Ed-Tech Platform',\n",
       "       'IT infrastructure & Data Center services',\n",
       "       'Online Financial Services', 'Used Car Marketplace',\n",
       "       'Language Learning App', 'Mobile Fitness Marketplace',\n",
       "       'Custom Merchandize platform', 'P2P Pre-owned goods marketplace',\n",
       "       'Custom Furniture Marketplace', 'Online Tailoring Services',\n",
       "       'Rail Ticket Confirmation predictor',\n",
       "       'Ethnic Beverages manufacturer', 'Hyperlocal Goods marketplace',\n",
       "       'Budget Accommodation aggregator', 'Real Estate Rating & Analysis',\n",
       "       'Food Delivery platform', 'Financial Tech', 'Food Discovery App',\n",
       "       'Music Streaming App', 'Big Data & Analytics platform',\n",
       "       'Coupon Aggregator Platform', 'Electric Scooter manufacturer',\n",
       "       'Online Food-Tech Platform', 'Celebrity Fashion Brand',\n",
       "       'Online Finance lending platform', 'Healthcare Mobile App',\n",
       "       'Self-driven vehicle rental', 'News Aggregator mobile app',\n",
       "       'Online Jewellery Store', 'Fashion Info Aggregator App',\n",
       "       'Online Study Notes Marketplace',\n",
       "       'Warranty Programs Service Administration', 'Pre-School Chain',\n",
       "       'Premium Loyalty Rewards Point Management',\n",
       "       'Contact Center Software Platform',\n",
       "       'Casual Dining restaurant Chain', 'Online Grocery Delivery',\n",
       "       'Online comparison engine',\n",
       "       'Residential Rental management platform',\n",
       "       'Physical Storage warehouses', 'Tech Recruitment platform',\n",
       "       'Bike Rental Platform', 'Tech enabled logistics platform',\n",
       "       'Budget Hotel Accommodation',\n",
       "       'Restaurant customer engagement platform',\n",
       "       'Live video streaming app', 'Hyper local logistics platform',\n",
       "       'Crowd Funding Platform', 'F&B sector Mobile Payment platform',\n",
       "       'Industrial Supplies B2B ecommerce', 'Payment Solutions platform',\n",
       "       'Online Hiring Platform', 'Organic Food ecommerce',\n",
       "       'Fine Dining Restaurant Chain', 'Luxury Rental Homes',\n",
       "       'Online Grocers', 'Casual Dating App',\n",
       "       'Clinical Genomics Provider', 'Travel information portal',\n",
       "       'Fitness Marketplace', 'Online & Mobile classified listings',\n",
       "       'Private Jet/ Helicopter Marketplace',\n",
       "       'Real Estate Broker network App',\n",
       "       'Ethnic/ Traditional Fashion Store', 'Used Bikes Marketplace',\n",
       "       'Spa & Salon Management Software',\n",
       "       'B2B logistics delivery platform', 'Logistics Automation Platform',\n",
       "       'Online home d�cor marketplace', 'Online Marketplace',\n",
       "       'Hyperlocal food & grocery store', 'Hyperlocal Handyman Services',\n",
       "       'Medical Tech Instruments', 'Hyperlocal Deals Marketplace',\n",
       "       'Innovative Water Solutions', 'Online Jewelry Store',\n",
       "       'Business intelligence & Analytics', 'Used Vehicle Marketplace',\n",
       "       'Educational Board Games', 'Chinese food delivery',\n",
       "       'On-Demand Laundry & Dry cleaning App',\n",
       "       'On-Demand Car services App', 'Hyperlocal Grocery App',\n",
       "       'Online Curated Holiday package bookings',\n",
       "       'Hasbro Toy Manufacturer', 'Travel Tech',\n",
       "       'Beauty and Wellness Platform', 'Healthy Food Manufacturer',\n",
       "       'Online Learning Platform', 'Healthy Food Online Community',\n",
       "       'Used two-wheeler Marketplace', 'Online Fashion Video Portal',\n",
       "       'Probiotic Technology Products Manufacturer',\n",
       "       'Architectural Design & Consulting',\n",
       "       'Big Data & Analytics Services', 'Preventive Healthcare Services',\n",
       "       'Tech-enabled Rural Healthcare Services',\n",
       "       'Engineering Innovations', 'Real Estate Intelligence Platform',\n",
       "       'Online Car Rental Affiliates', 'Data Center Software platform',\n",
       "       'Online City & Lifestyle Guide', 'P2P Payments platform',\n",
       "       'Bespoke Merchandize Marketplace', 'Women Lifestyle Marketplace',\n",
       "       'Logistics Solution Provider', 'Video Intelligence Platform',\n",
       "       'Hyperlocal Shopping App', 'eCommerce platform',\n",
       "       'Renewable energy solutions', 'HealthcareService provider',\n",
       "       'Auto Rickshaw Based Services', 'Artist / Designer Marketplace',\n",
       "       'Off-grid Solar Power', 'Private Label lingerie Ecommerce',\n",
       "       'Online Food Ordering', 'Mobile Commerce Platform',\n",
       "       'Online Printing Services', 'Digital Marketing Services',\n",
       "       'Travel Guide Mobile App', 'Fashion Ecommerce store',\n",
       "       'Mobile Compression Software', 'Peer to Peer Lending platform',\n",
       "       'Global Healthcare products', 'Home Furnishing Solutions',\n",
       "       'Skill Training & Placement Platform',\n",
       "       'Intra-City Logistics service', 'online tiffin service aggregator',\n",
       "       'Electronic Goods recycling service',\n",
       "       'Online Coupon & comparison platform',\n",
       "       'Parents & Kids Online platform', 'Dental Clinic chain',\n",
       "       'On-Demand Logistics Service', '3D Printer Manufacturer',\n",
       "       'IT / Customer Engagement Consulting', 'Health & Fitness App',\n",
       "       'Online Education Marketplace', 'Financial Services Platform',\n",
       "       'Social Network for Artists', 'Startup funding platform',\n",
       "       'Data Driven recruitment recommendation', 'Travel Search Engine',\n",
       "       'Brain Games Platform', 'Video Advertisement Platform',\n",
       "       'Algorithmic Match Making Platform',\n",
       "       'Mobile Chat based concierge service',\n",
       "       'Online Budget Hotel Booking Service',\n",
       "       'Online education marketplace', 'Preventive healthcare services',\n",
       "       'Science Learning App', 'Beauty and Wellness platform',\n",
       "       'Online Education Platform', 'Logistics Tech',\n",
       "       'App Analytics platform', 'Micro Finance Platform',\n",
       "       'Freight logistics platform', 'Credit Management Services',\n",
       "       'Hyperlocal services marketplace',\n",
       "       'Beauty services Mobile Marketplace',\n",
       "       'Marketing / Advertising Automation platform',\n",
       "       'Online Lingerie platform', 'Railways Information Mobile app',\n",
       "       'Hyperlocal grocery delivery', 'Flat rental Mobile App',\n",
       "       'Wealth Management Platform', 'Online Food Delivery',\n",
       "       'Fund Raising Platform', 'Workforce Management Software',\n",
       "       'Online Art Marketplace', 'Affordable Education',\n",
       "       'Career Development', 'Real Estate Advisory',\n",
       "       'Banking Analytics Platform', 'Customer Engagement Platform',\n",
       "       'Ecommerce Logistics', 'Speech Recognition Solutions',\n",
       "       'Online Product Comparison', 'Online Security Platform',\n",
       "       'Online Medical Diagnostic', 'Cloud Data Integration Platform',\n",
       "       'Mobile Laundry Cleaning Service', 'Service-On-Demand Mobile App',\n",
       "       'Intelligent Data Analytics', 'Online Office Rental',\n",
       "       'Lifestyle Ecommerce Portal', 'Online Fashion Aggregator',\n",
       "       'Online Job skills Showcase', 'Online News Media',\n",
       "       'Enterprise Communication Platform', 'Offline Tea Chain',\n",
       "       'Business Messaging App', 'Health Mobile App',\n",
       "       'Online Ed-Tech Platform', 'Hyperlocal Mobile Marketplace',\n",
       "       'Trucking Logistic Operations', 'B2C Messaging App',\n",
       "       'Rooftop Solar Plants', 'Online Car Portal',\n",
       "       'Online Table Reservation', 'Parents focused Web Content',\n",
       "       'Payments Solution Provider', 'On-demand Service marketplace',\n",
       "       'On-Demand Business messaging', 'Online Home D�cor',\n",
       "       'API Workflow platform', 'Affordable Hotel Booking Online',\n",
       "       'Logistics Intelligence', 'Last Mile Logistics',\n",
       "       'Self-driven Car rental', 'Weight Management Service',\n",
       "       'Electric Scooter Manufacturer', 'Web Content Publishing',\n",
       "       'Location Based App', 'Video Streaming', 'Price Comparison',\n",
       "       'Online Classifieds', 'Travel Entertainment',\n",
       "       'Digital / Mobile Wallet', 'Cab Aggregator', 'Device Repair Svcs',\n",
       "       'Premium Beverages', 'Online FurnishingeCommerce', 'Ed-Tech',\n",
       "       'Interactive� How-To Guides', 'Mobile Health Tech',\n",
       "       'Restaurant Reviews', 'Online Grocer', 'Online Hotel Booking',\n",
       "       'Online Kitchen Furniture', 'Hyper-local Online Services',\n",
       "       'Hyper-Local Online/Mobile Grocery', 'Online Policy Aggregator',\n",
       "       'Hyperlocal Mobile Services Marketplace',\n",
       "       'OnDemandMobile Handyman Services', 'Mobile App Development',\n",
       "       'On-Demand Handyman Services', 'Beauty & Wellness Mobile App',\n",
       "       'Material Collection & Recycling', 'Online Pharmacy & Drug DB',\n",
       "       'Online / Mobile Customer Support',\n",
       "       'Online Classifieds & Listings', 'Fashion ECommerce',\n",
       "       'Private Coaching Centers', 'Online Certification Courses',\n",
       "       'Ethnic Product eCommerce',\n",
       "       'Last Minute Travel Deals mobile marketplace',\n",
       "       'business expense management', 'Auto Rickshaw based Logistics',\n",
       "       'Restaurant reservation app', 'Spam Call block App',\n",
       "       'Online Insurance Aggregator', 'Restaurant Management Platform',\n",
       "       'Food Logistics & Delivery', 'Interactive Educational Games',\n",
       "       'Clean Tech', 'Grey collar Job Board',\n",
       "       'Online Furniture ecommerce', 'Robotic Program learning',\n",
       "       'Tele-Shopping / eCommerce', 'Used Gadgets Buy / Refurbishing',\n",
       "       'Cloud Enterprise Software', 'Startup Analytics platform',\n",
       "       'Mobile Food Ordering app', 'Financial Markets Software',\n",
       "       'Hiring Analytics platform', 'Online Travel Marketplace'],\n",
       "      dtype=object)"
      ]
     },
     "execution_count": 68,
     "metadata": {},
     "output_type": "execute_result"
    }
   ],
   "source": [
    "df[\"IndustryVertical\"].unique()"
   ]
  },
  {
   "cell_type": "code",
   "execution_count": 69,
   "id": "320f8035",
   "metadata": {},
   "outputs": [],
   "source": [
    "df['IndustryVertical'].replace(\"eCommerce\", \"Ecommerce\", inplace = True)\n",
    "df['IndustryVertical'].replace(\"ecommerce\", \"Ecommerce\", inplace = True)\n",
    "df['IndustryVertical'].replace(\"ECommerce\", \"Ecommerce\", inplace = True)"
   ]
  },
  {
   "cell_type": "code",
   "execution_count": 70,
   "id": "9ba9096e",
   "metadata": {},
   "outputs": [],
   "source": [
    "b=df.groupby([\"IndustryVertical\"])[\"AmountInUSD\"].sum()"
   ]
  },
  {
   "cell_type": "code",
   "execution_count": 71,
   "id": "a8ed2382",
   "metadata": {},
   "outputs": [
    {
     "data": {
      "text/plain": [
       "IndustryVertical\n",
       "360-degree view creating platform                                 0\n",
       "3D Printer Manufacturer                                     3000000\n",
       "API Workflow platform                                       1000000\n",
       "Activity Based Social Network                                     0\n",
       "Advertising & Marketing Community Networking platform       1000000\n",
       "                                                             ...   \n",
       "proximity marketing & Mobile Advertising platform             80000\n",
       "residential rental management platform                       640000\n",
       "solar products and services marketplace                           0\n",
       "virtual reality, 3d simulation and stereoscopic products     800000\n",
       "visual search and discovery platform                        1000000\n",
       "Name: AmountInUSD, Length: 737, dtype: int64"
      ]
     },
     "execution_count": 71,
     "metadata": {},
     "output_type": "execute_result"
    }
   ],
   "source": [
    "b"
   ]
  },
  {
   "cell_type": "code",
   "execution_count": 72,
   "id": "8bf3f7c1",
   "metadata": {},
   "outputs": [
    {
     "data": {
      "text/plain": [
       "IndustryVertical\n",
       "Ecommerce                            4281189608\n",
       "Consumer Internet                    3797036500\n",
       "Technology                           1103593500\n",
       "Online Marketplace                    700000000\n",
       "E-Commerce & M-Commerce platform      680000000\n",
       "                                        ...    \n",
       "Online Purchase rewards app                   0\n",
       "Digital Media Platform                        0\n",
       "Online Printing Services                      0\n",
       "Digital Media publishing platform             0\n",
       "360-degree view creating platform             0\n",
       "Name: AmountInUSD, Length: 737, dtype: int64"
      ]
     },
     "execution_count": 72,
     "metadata": {},
     "output_type": "execute_result"
    }
   ],
   "source": [
    "b.sort_values(ascending=False)"
   ]
  },
  {
   "cell_type": "code",
   "execution_count": 73,
   "id": "63591261",
   "metadata": {},
   "outputs": [],
   "source": [
    "IndustryType=b.index"
   ]
  },
  {
   "cell_type": "code",
   "execution_count": 74,
   "id": "fd8ea3c3",
   "metadata": {},
   "outputs": [],
   "source": [
    "Amount=b.values"
   ]
  },
  {
   "cell_type": "code",
   "execution_count": 75,
   "id": "622e997e",
   "metadata": {},
   "outputs": [
    {
     "data": {
      "text/plain": [
       "IndustryVertical\n",
       "360-degree view creating platform                                 0\n",
       "3D Printer Manufacturer                                     3000000\n",
       "API Workflow platform                                       1000000\n",
       "Activity Based Social Network                                     0\n",
       "Advertising & Marketing Community Networking platform       1000000\n",
       "                                                             ...   \n",
       "proximity marketing & Mobile Advertising platform             80000\n",
       "residential rental management platform                       640000\n",
       "solar products and services marketplace                           0\n",
       "virtual reality, 3d simulation and stereoscopic products     800000\n",
       "visual search and discovery platform                        1000000\n",
       "Name: AmountInUSD, Length: 737, dtype: int64"
      ]
     },
     "execution_count": 75,
     "metadata": {},
     "output_type": "execute_result"
    }
   ],
   "source": [
    "b"
   ]
  },
  {
   "cell_type": "code",
   "execution_count": 76,
   "id": "d06da5cf",
   "metadata": {},
   "outputs": [],
   "source": [
    "lst_indus=list(zip(IndustryType,Amount))"
   ]
  },
  {
   "cell_type": "code",
   "execution_count": 77,
   "id": "5ea588c3",
   "metadata": {},
   "outputs": [],
   "source": [
    "df_indus=pd.DataFrame(lst_indus,columns=['IndustryType','Amount'])"
   ]
  },
  {
   "cell_type": "code",
   "execution_count": 78,
   "id": "4c14db71",
   "metadata": {},
   "outputs": [
    {
     "data": {
      "text/html": [
       "<div>\n",
       "<style scoped>\n",
       "    .dataframe tbody tr th:only-of-type {\n",
       "        vertical-align: middle;\n",
       "    }\n",
       "\n",
       "    .dataframe tbody tr th {\n",
       "        vertical-align: top;\n",
       "    }\n",
       "\n",
       "    .dataframe thead th {\n",
       "        text-align: right;\n",
       "    }\n",
       "</style>\n",
       "<table border=\"1\" class=\"dataframe\">\n",
       "  <thead>\n",
       "    <tr style=\"text-align: right;\">\n",
       "      <th></th>\n",
       "      <th>IndustryType</th>\n",
       "      <th>Amount</th>\n",
       "    </tr>\n",
       "  </thead>\n",
       "  <tbody>\n",
       "    <tr>\n",
       "      <th>0</th>\n",
       "      <td>360-degree view creating platform</td>\n",
       "      <td>0</td>\n",
       "    </tr>\n",
       "    <tr>\n",
       "      <th>1</th>\n",
       "      <td>3D Printer Manufacturer</td>\n",
       "      <td>3000000</td>\n",
       "    </tr>\n",
       "    <tr>\n",
       "      <th>2</th>\n",
       "      <td>API Workflow platform</td>\n",
       "      <td>1000000</td>\n",
       "    </tr>\n",
       "    <tr>\n",
       "      <th>3</th>\n",
       "      <td>Activity Based Social Network</td>\n",
       "      <td>0</td>\n",
       "    </tr>\n",
       "    <tr>\n",
       "      <th>4</th>\n",
       "      <td>Advertising &amp; Marketing Community Networking p...</td>\n",
       "      <td>1000000</td>\n",
       "    </tr>\n",
       "    <tr>\n",
       "      <th>...</th>\n",
       "      <td>...</td>\n",
       "      <td>...</td>\n",
       "    </tr>\n",
       "    <tr>\n",
       "      <th>732</th>\n",
       "      <td>proximity marketing &amp; Mobile Advertising platform</td>\n",
       "      <td>80000</td>\n",
       "    </tr>\n",
       "    <tr>\n",
       "      <th>733</th>\n",
       "      <td>residential rental management platform</td>\n",
       "      <td>640000</td>\n",
       "    </tr>\n",
       "    <tr>\n",
       "      <th>734</th>\n",
       "      <td>solar products and services marketplace</td>\n",
       "      <td>0</td>\n",
       "    </tr>\n",
       "    <tr>\n",
       "      <th>735</th>\n",
       "      <td>virtual reality, 3d simulation and stereoscopi...</td>\n",
       "      <td>800000</td>\n",
       "    </tr>\n",
       "    <tr>\n",
       "      <th>736</th>\n",
       "      <td>visual search and discovery platform</td>\n",
       "      <td>1000000</td>\n",
       "    </tr>\n",
       "  </tbody>\n",
       "</table>\n",
       "<p>737 rows × 2 columns</p>\n",
       "</div>"
      ],
      "text/plain": [
       "                                          IndustryType   Amount\n",
       "0                    360-degree view creating platform        0\n",
       "1                              3D Printer Manufacturer  3000000\n",
       "2                                API Workflow platform  1000000\n",
       "3                        Activity Based Social Network        0\n",
       "4    Advertising & Marketing Community Networking p...  1000000\n",
       "..                                                 ...      ...\n",
       "732  proximity marketing & Mobile Advertising platform    80000\n",
       "733             residential rental management platform   640000\n",
       "734            solar products and services marketplace        0\n",
       "735  virtual reality, 3d simulation and stereoscopi...   800000\n",
       "736               visual search and discovery platform  1000000\n",
       "\n",
       "[737 rows x 2 columns]"
      ]
     },
     "execution_count": 78,
     "metadata": {},
     "output_type": "execute_result"
    }
   ],
   "source": [
    "df_indus"
   ]
  },
  {
   "cell_type": "code",
   "execution_count": 79,
   "id": "fe527137",
   "metadata": {},
   "outputs": [],
   "source": [
    "df_indus=df_indus.sort_values('Amount',ascending=False)"
   ]
  },
  {
   "cell_type": "code",
   "execution_count": 80,
   "id": "fc13afc0",
   "metadata": {},
   "outputs": [
    {
     "data": {
      "text/html": [
       "<div>\n",
       "<style scoped>\n",
       "    .dataframe tbody tr th:only-of-type {\n",
       "        vertical-align: middle;\n",
       "    }\n",
       "\n",
       "    .dataframe tbody tr th {\n",
       "        vertical-align: top;\n",
       "    }\n",
       "\n",
       "    .dataframe thead th {\n",
       "        text-align: right;\n",
       "    }\n",
       "</style>\n",
       "<table border=\"1\" class=\"dataframe\">\n",
       "  <thead>\n",
       "    <tr style=\"text-align: right;\">\n",
       "      <th></th>\n",
       "      <th>IndustryType</th>\n",
       "      <th>Amount</th>\n",
       "    </tr>\n",
       "  </thead>\n",
       "  <tbody>\n",
       "    <tr>\n",
       "      <th>155</th>\n",
       "      <td>Ecommerce</td>\n",
       "      <td>4281189608</td>\n",
       "    </tr>\n",
       "    <tr>\n",
       "      <th>95</th>\n",
       "      <td>Consumer Internet</td>\n",
       "      <td>3797036500</td>\n",
       "    </tr>\n",
       "    <tr>\n",
       "      <th>656</th>\n",
       "      <td>Technology</td>\n",
       "      <td>1103593500</td>\n",
       "    </tr>\n",
       "    <tr>\n",
       "      <th>476</th>\n",
       "      <td>Online Marketplace</td>\n",
       "      <td>700000000</td>\n",
       "    </tr>\n",
       "    <tr>\n",
       "      <th>146</th>\n",
       "      <td>E-Commerce &amp; M-Commerce platform</td>\n",
       "      <td>680000000</td>\n",
       "    </tr>\n",
       "    <tr>\n",
       "      <th>...</th>\n",
       "      <td>...</td>\n",
       "      <td>...</td>\n",
       "    </tr>\n",
       "    <tr>\n",
       "      <th>492</th>\n",
       "      <td>Online Purchase rewards app</td>\n",
       "      <td>0</td>\n",
       "    </tr>\n",
       "    <tr>\n",
       "      <th>138</th>\n",
       "      <td>Digital Media Platform</td>\n",
       "      <td>0</td>\n",
       "    </tr>\n",
       "    <tr>\n",
       "      <th>489</th>\n",
       "      <td>Online Printing Services</td>\n",
       "      <td>0</td>\n",
       "    </tr>\n",
       "    <tr>\n",
       "      <th>139</th>\n",
       "      <td>Digital Media publishing platform</td>\n",
       "      <td>0</td>\n",
       "    </tr>\n",
       "    <tr>\n",
       "      <th>0</th>\n",
       "      <td>360-degree view creating platform</td>\n",
       "      <td>0</td>\n",
       "    </tr>\n",
       "  </tbody>\n",
       "</table>\n",
       "<p>737 rows × 2 columns</p>\n",
       "</div>"
      ],
      "text/plain": [
       "                          IndustryType      Amount\n",
       "155                          Ecommerce  4281189608\n",
       "95                   Consumer Internet  3797036500\n",
       "656                         Technology  1103593500\n",
       "476                 Online Marketplace   700000000\n",
       "146   E-Commerce & M-Commerce platform   680000000\n",
       "..                                 ...         ...\n",
       "492        Online Purchase rewards app           0\n",
       "138             Digital Media Platform           0\n",
       "489           Online Printing Services           0\n",
       "139  Digital Media publishing platform           0\n",
       "0    360-degree view creating platform           0\n",
       "\n",
       "[737 rows x 2 columns]"
      ]
     },
     "execution_count": 80,
     "metadata": {},
     "output_type": "execute_result"
    }
   ],
   "source": [
    "df_indus"
   ]
  },
  {
   "cell_type": "code",
   "execution_count": 81,
   "id": "7c7a0311",
   "metadata": {},
   "outputs": [
    {
     "data": {
      "text/plain": [
       "array([4281189608, 3797036500, 1103593500,  700000000,  680000000],\n",
       "      dtype=int64)"
      ]
     },
     "execution_count": 81,
     "metadata": {},
     "output_type": "execute_result"
    }
   ],
   "source": [
    "amt=df_indus['Amount'].head(5)\n",
    "amt=amt.values\n",
    "amt"
   ]
  },
  {
   "cell_type": "code",
   "execution_count": 82,
   "id": "d2938692",
   "metadata": {},
   "outputs": [
    {
     "data": {
      "text/plain": [
       "array(['Ecommerce', 'Consumer Internet', 'Technology',\n",
       "       'Online Marketplace', 'E-Commerce & M-Commerce platform'],\n",
       "      dtype=object)"
      ]
     },
     "execution_count": 82,
     "metadata": {},
     "output_type": "execute_result"
    }
   ],
   "source": [
    "industry=df_indus['IndustryType'].head(5)\n",
    "industry=industry.values\n",
    "industry"
   ]
  },
  {
   "cell_type": "code",
   "execution_count": 83,
   "id": "f37b68e2",
   "metadata": {},
   "outputs": [],
   "source": [
    "x=[]\n",
    "y=[]\n",
    "for i in range(5):\n",
    "    x.append(amt[i])\n",
    "    y.append(industry[i])\n",
    "    "
   ]
  },
  {
   "cell_type": "code",
   "execution_count": 84,
   "id": "145bb989",
   "metadata": {},
   "outputs": [
    {
     "data": {
      "image/png": "[encoded data removed]",
      "text/plain": [
       "<Figure size 432x288 with 1 Axes>"
      ]
     },
     "metadata": {},
     "output_type": "display_data"
    }
   ],
   "source": [
    "colors=[\"pink\",\"yellow\",\"red\",\"purple\",\"orange\"]\n",
    "explode=[0,0,0,0,0]\n",
    "plt.pie(x,colors=colors,labels=y,autopct=\"%.2f\",startangle=100,explode=explode,counterclock=False)\n",
    "plt.axis(\"equal\")\n",
    "plt.show()"
   ]
  },
  {
   "cell_type": "code",
   "execution_count": 85,
   "id": "76b9bb2b",
   "metadata": {},
   "outputs": [],
   "source": [
    "perc_indus=df_indus[\"Amount\"]/df_indus[\"Amount\"].sum()*100"
   ]
  },
  {
   "cell_type": "code",
   "execution_count": 86,
   "id": "63de4e0e",
   "metadata": {},
   "outputs": [
    {
     "data": {
      "text/plain": [
       "155    25.072085\n",
       "95     22.236722\n",
       "656     6.463014\n",
       "476     4.099435\n",
       "146     3.982309\n",
       "         ...    \n",
       "492     0.000000\n",
       "138     0.000000\n",
       "489     0.000000\n",
       "139     0.000000\n",
       "0       0.000000\n",
       "Name: Amount, Length: 737, dtype: float64"
      ]
     },
     "execution_count": 86,
     "metadata": {},
     "output_type": "execute_result"
    }
   ],
   "source": [
    "perc_indus"
   ]
  },
  {
   "cell_type": "code",
   "execution_count": 87,
   "id": "26689ed3",
   "metadata": {},
   "outputs": [
    {
     "data": {
      "text/plain": [
       "array(['Ecommerce', 'Consumer Internet', 'Technology',\n",
       "       'Online Marketplace', 'E-Commerce & M-Commerce platform'],\n",
       "      dtype=object)"
      ]
     },
     "execution_count": 87,
     "metadata": {},
     "output_type": "execute_result"
    }
   ],
   "source": [
    "industry"
   ]
  },
  {
   "cell_type": "code",
   "execution_count": 88,
   "id": "5d9d2a1b",
   "metadata": {},
   "outputs": [],
   "source": [
    "lst_final_indus=list(zip(industry,perc))"
   ]
  },
  {
   "cell_type": "code",
   "execution_count": 89,
   "id": "9a530f0d",
   "metadata": {},
   "outputs": [],
   "source": [
    "df_indus=pd.DataFrame(lst_final_indus,columns=['IndustryType','percentage'])"
   ]
  },
  {
   "cell_type": "code",
   "execution_count": 90,
   "id": "070e2b6c",
   "metadata": {},
   "outputs": [
    {
     "data": {
      "text/html": [
       "<div>\n",
       "<style scoped>\n",
       "    .dataframe tbody tr th:only-of-type {\n",
       "        vertical-align: middle;\n",
       "    }\n",
       "\n",
       "    .dataframe tbody tr th {\n",
       "        vertical-align: top;\n",
       "    }\n",
       "\n",
       "    .dataframe thead th {\n",
       "        text-align: right;\n",
       "    }\n",
       "</style>\n",
       "<table border=\"1\" class=\"dataframe\">\n",
       "  <thead>\n",
       "    <tr style=\"text-align: right;\">\n",
       "      <th></th>\n",
       "      <th>IndustryType</th>\n",
       "      <th>percentage</th>\n",
       "    </tr>\n",
       "  </thead>\n",
       "  <tbody>\n",
       "    <tr>\n",
       "      <th>0</th>\n",
       "      <td>Ecommerce</td>\n",
       "      <td>49.714528</td>\n",
       "    </tr>\n",
       "    <tr>\n",
       "      <th>1</th>\n",
       "      <td>Consumer Internet</td>\n",
       "      <td>16.634011</td>\n",
       "    </tr>\n",
       "    <tr>\n",
       "      <th>2</th>\n",
       "      <td>Technology</td>\n",
       "      <td>13.899420</td>\n",
       "    </tr>\n",
       "    <tr>\n",
       "      <th>3</th>\n",
       "      <td>Online Marketplace</td>\n",
       "      <td>12.211889</td>\n",
       "    </tr>\n",
       "    <tr>\n",
       "      <th>4</th>\n",
       "      <td>E-Commerce &amp; M-Commerce platform</td>\n",
       "      <td>2.426446</td>\n",
       "    </tr>\n",
       "  </tbody>\n",
       "</table>\n",
       "</div>"
      ],
      "text/plain": [
       "                       IndustryType  percentage\n",
       "0                         Ecommerce   49.714528\n",
       "1                 Consumer Internet   16.634011\n",
       "2                        Technology   13.899420\n",
       "3                Online Marketplace   12.211889\n",
       "4  E-Commerce & M-Commerce platform    2.426446"
      ]
     },
     "execution_count": 90,
     "metadata": {},
     "output_type": "execute_result"
    }
   ],
   "source": [
    "df_indus"
   ]
  },
  {
   "cell_type": "code",
   "execution_count": 91,
   "id": "66f7512b",
   "metadata": {},
   "outputs": [
    {
     "data": {
      "text/plain": [
       "Date                  0\n",
       "StartupName           0\n",
       "IndustryVertical      0\n",
       "SubVertical         762\n",
       "CityLocation          0\n",
       "InvestorsName         8\n",
       "InvestmentType        0\n",
       "AmountInUSD           0\n",
       "Year                  0\n",
       "dtype: int64"
      ]
     },
     "execution_count": 91,
     "metadata": {},
     "output_type": "execute_result"
    }
   ],
   "source": [
    "df.isnull().sum()"
   ]
  },
  {
   "cell_type": "code",
   "execution_count": 92,
   "id": "f78c1119",
   "metadata": {},
   "outputs": [
    {
     "data": {
      "text/plain": [
       "array(['TouchKin', 'Ethinos', 'Leverage Edu', ..., 'Dazo', 'Tradelab',\n",
       "       'PiQube'], dtype=object)"
      ]
     },
     "execution_count": 92,
     "metadata": {},
     "output_type": "execute_result"
    }
   ],
   "source": [
    "df[\"StartupName\"].unique()"
   ]
  },
  {
   "cell_type": "code",
   "execution_count": 93,
   "id": "51ac7127",
   "metadata": {},
   "outputs": [
    {
     "data": {
      "text/plain": [
       "Swiggy          7\n",
       "UrbanClap       6\n",
       "Jugnoo          5\n",
       "Medinfi         5\n",
       "NoBroker        4\n",
       "               ..\n",
       "HealthEnablr    1\n",
       "RoomsTonite     1\n",
       "Whoop           1\n",
       "TruckMandi      1\n",
       "Sportido        1\n",
       "Name: StartupName, Length: 1872, dtype: int64"
      ]
     },
     "execution_count": 93,
     "metadata": {},
     "output_type": "execute_result"
    }
   ],
   "source": [
    "df[\"StartupName\"].value_counts()"
   ]
  },
  {
   "cell_type": "code",
   "execution_count": null,
   "id": "dccd2d3f",
   "metadata": {},
   "outputs": [],
   "source": []
  }
 ],
 "metadata": {
  "kernelspec": {
   "display_name": "Python 3",
   "language": "python",
   "name": "python3"
  },
  "language_info": {
   "codemirror_mode": {
    "name": "ipython",
    "version": 3
   },
   "file_extension": ".py",
   "mimetype": "text/x-python",
   "name": "python",
   "nbconvert_exporter": "python",
   "pygments_lexer": "ipython3",
   "version": "3.9.5"
  }
 },
 "nbformat": 4,
 "nbformat_minor": 5
}
